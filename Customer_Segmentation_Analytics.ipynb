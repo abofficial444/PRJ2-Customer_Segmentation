{
 "cells": [
  {
   "cell_type": "markdown",
   "id": "810ba75f",
   "metadata": {},
   "source": [
    "## STEP 1: Problem Statement"
   ]
  },
  {
   "cell_type": "markdown",
   "id": "d785b5be",
   "metadata": {},
   "source": [
    "    Marketers & Customer experience team have to understand the issues and choices involved in customer segmentation to be able to manage such a project effectively from conception to implementation.\n",
    "        2months ago, about 4000 inbounds was receievd from ABC customers due to failed transactions. overtime this inbounds increases to about 7400; while agreesively responding to their queries the team observed most of high spending & frequent customers recorded about 80% of the inbounds; this trigger a calls for a data scientist to help ABC analyze & build a solution that will segment customers based on their recency, frequency & monetary value so they can respond to cases by segment priorities."
   ]
  },
  {
   "cell_type": "markdown",
   "id": "80ffa04f",
   "metadata": {},
   "source": [
    "## STEP 2: Business Understanding"
   ]
  },
  {
   "cell_type": "markdown",
   "id": "be19d5ff",
   "metadata": {},
   "source": [
    "    Based on the fictional problem statement above, we understood that several inbounds were received and the organization urgently needs to have a 360 view of their customers so than respond to queries by segment priorities and also this could help the marketing team to tailor certain products & services"
   ]
  },
  {
   "cell_type": "markdown",
   "id": "4be66acb",
   "metadata": {},
   "source": [
    "## STEP 3: Hypothesis Generation"
   ]
  },
  {
   "cell_type": "markdown",
   "id": "babee558",
   "metadata": {},
   "source": [
    "<b>Hypothesis : An assumption which may be true or not (in a simple definition: think of hypothesis as a factor likely to affect or influence a problem one is trying to solve.<b>\n",
    "\n",
    "To avoid boiling the ocean; its a good practice to generate hypothesis. but in this scenario we may not see the importance/impact of hypothesis here. Irrespective of its importance visibility’s here or not; lets generate.\n",
    "\n",
    "    1. The current spending of a customer is likely to tell the segment of a customer\n",
    "    2. How often a customer made purchases on a platform is likely to tell the segment of a customer\n",
    "    3. The last time the customer made a purchase is likely to tell the segment of a customer\n",
    "    4. The age of a customer is likely to tell the segment of a customer.\n",
    "    \n",
    "    hint: based on the hypothesis above, we look for fields with similar keywords (data dictionary can help better); the keywords are often,time, spending & age.\n",
    "\n",
    "   Why hypothesis? In the case of 500 fields or columns; as an example, its advisable to leverage on hypothesis generated to explore what may matters towards the objective; so a data scientist dont waist time exploring what does not matters."
   ]
  },
  {
   "cell_type": "markdown",
   "id": "3c27c25b",
   "metadata": {},
   "source": [
    "## STEP 4: Data Gathering & Cleaning\n",
    "Based on your research & understanding of the business problem, We need to gather all necessary data needed for this project: to make it so simple, the data for this project has been made available as an excel "
   ]
  },
  {
   "cell_type": "markdown",
   "id": "4dac25a9",
   "metadata": {},
   "source": [
    "Lets read the excel file and do some cleaning.\n",
    "\n",
    "#### NB: in real life; most times, you connect & read from the database directly (so, you must know SQL)"
   ]
  },
  {
   "cell_type": "code",
   "execution_count": 1,
   "id": "04bda538",
   "metadata": {},
   "outputs": [],
   "source": [
    "#Importing necessary dependencies/libraries\n",
    "\n",
    "#linear algebra\n",
    "import numpy as np\n",
    "\n",
    "#data preprocessing\n",
    "import pandas as pd\n",
    "\n",
    "#style plotting\n",
    "import matplotlib.pyplot as plt\n",
    "\n",
    "#advance style plotting\n",
    "import seaborn as sns\n",
    "\n",
    "#datetime features\n",
    "import datetime as dt\n",
    "\n",
    "#evaluation metrics for clustering\n",
    "from sklearn.metrics import davies_bouldin_score\n",
    "\n",
    "#
   ]
  },
  {
   "cell_type": "markdown",
   "id": "aef760e6",
   "metadata": {},
   "source": [
    "### Data Exploration "
   ]
  },
  {
   "cell_type": "code",
   "execution_count": 2,
   "id": "a935fd1e",
   "metadata": {},
   "outputs": [],
   "source": [
    "#read excel file\n",
    "df = pd.read_excel('Online Retail.xlsx')"
   ]
  },
  {
   "cell_type": "code",
   "execution_count": 3,
   "id": "a85761e5",
   "metadata": {},
   "outputs": [
    {
     "data": {
      "text/plain": [
       "(541909, 8)"
      ]
     },
     "execution_count": 3,
     "metadata": {},
     "output_type": "execute_result"
    }
   ],
   "source": [
    "#rows and column\n",
    "df.shape"
   ]
  },
  {
   "cell_type": "code",
   "execution_count": 4,
   "id": "1b448a96",
   "metadata": {},
   "outputs": [
    {
     "data": {
      "text/html": [
       "<div>\n",
       "<style scoped>\n",
       "    .dataframe tbody tr th:only-of-type {\n",
       "        vertical-align: middle;\n",
       "    }\n",
       "\n",
       "    .dataframe tbody tr th {\n",
       "        vertical-align: top;\n",
       "    }\n",
       "\n",
       "    .dataframe thead th {\n",
       "        text-align: right;\n",
       "    }\n",
       "</style>\n",
       "<table border=\"1\" class=\"dataframe\">\n",
       "  <thead>\n",
       "    <tr style=\"text-align: right;\">\n",
       "      <th></th>\n",
       "      <th>InvoiceNo</th>\n",
       "      <th>StockCode</th>\n",
       "      <th>Description</th>\n",
       "      <th>Quantity</th>\n",
       "      <th>InvoiceDate</th>\n",
       "      <th>UnitPrice</th>\n",
       "      <th>CustomerID</th>\n",
       "      <th>Country</th>\n",
       "    </tr>\n",
       "  </thead>\n",
       "  <tbody>\n",
       "    <tr>\n",
       "      <th>0</th>\n",
       "      <td>536365</td>\n",
       "      <td>85123A</td>\n",
       "      <td>WHITE HANGING HEART T-LIGHT HOLDER</td>\n",
       "      <td>6</td>\n",
       "      <td>2010-12-01 08:26:00</td>\n",
       "      <td>2.55</td>\n",
       "      <td>17850.0</td>\n",
       "      <td>United Kingdom</td>\n",
       "    </tr>\n",
       "    <tr>\n",
       "      <th>1</th>\n",
       "      <td>536365</td>\n",
       "      <td>71053</td>\n",
       "      <td>WHITE METAL LANTERN</td>\n",
       "      <td>6</td>\n",
       "      <td>2010-12-01 08:26:00</td>\n",
       "      <td>3.39</td>\n",
       "      <td>17850.0</td>\n",
       "      <td>United Kingdom</td>\n",
       "    </tr>\n",
       "    <tr>\n",
       "      <th>2</th>\n",
       "      <td>536365</td>\n",
       "      <td>84406B</td>\n",
       "      <td>CREAM CUPID HEARTS COAT HANGER</td>\n",
       "      <td>8</td>\n",
       "      <td>2010-12-01 08:26:00</td>\n",
       "      <td>2.75</td>\n",
       "      <td>17850.0</td>\n",
       "      <td>United Kingdom</td>\n",
       "    </tr>\n",
       "  </tbody>\n",
       "</table>\n",
       "</div>"
      ],
      "text/plain": [
       "  InvoiceNo StockCode                         Description  Quantity  \\\n",
       "0    536365    85123A  WHITE HANGING HEART T-LIGHT HOLDER         6   \n",
       "1    536365     71053                 WHITE METAL LANTERN         6   \n",
       "2    536365    84406B      CREAM CUPID HEARTS COAT HANGER         8   \n",
       "\n",
       "          InvoiceDate  UnitPrice  CustomerID         Country  \n",
       "0 2010-12-01 08:26:00       2.55     17850.0  United Kingdom  \n",
       "1 2010-12-01 08:26:00       3.39     17850.0  United Kingdom  \n",
       "2 2010-12-01 08:26:00       2.75     17850.0  United Kingdom  "
      ]
     },
     "execution_count": 4,
     "metadata": {},
     "output_type": "execute_result"
    }
   ],
   "source": [
    "#check top 3\n",
    "df.head(3)"
   ]
  },
  {
   "cell_type": "code",
   "execution_count": 5,
   "id": "5bf1b571",
   "metadata": {},
   "outputs": [
    {
     "data": {
      "text/plain": [
       "8"
      ]
     },
     "execution_count": 5,
     "metadata": {},
     "output_type": "execute_result"
    }
   ],
   "source": [
    "#check numbers of columns\n",
    "len(df.columns)"
   ]
  },
  {
   "cell_type": "markdown",
   "id": "a23587d3",
   "metadata": {},
   "source": [
    "    Observations:\n",
    "    - there exist 8 different unique fields\n",
    "    - column names are well spelled and are in pascal case format"
   ]
  },
  {
   "cell_type": "code",
   "execution_count": 6,
   "id": "dea55cae",
   "metadata": {},
   "outputs": [
    {
     "data": {
      "text/plain": [
       "InvoiceNo              object\n",
       "StockCode              object\n",
       "Description            object\n",
       "Quantity                int64\n",
       "InvoiceDate    datetime64[ns]\n",
       "UnitPrice             float64\n",
       "CustomerID            float64\n",
       "Country                object\n",
       "dtype: object"
      ]
     },
     "execution_count": 6,
     "metadata": {},
     "output_type": "execute_result"
    }
   ],
   "source": [
    "#check data types\n",
    "df.dtypes"
   ]
  },
  {
   "cell_type": "markdown",
   "id": "fa8f1850",
   "metadata": {},
   "source": [
    "    Observations:\n",
    "    - there are 4 object columns, 3 numerical(2 floats & 1 integer) & a datetime column"
   ]
  },
  {
   "cell_type": "code",
   "execution_count": 7,
   "id": "9ba299ec",
   "metadata": {},
   "outputs": [
    {
     "data": {
      "text/plain": [
       "InvoiceNo       0.000000\n",
       "StockCode       0.000000\n",
       "Description     0.268311\n",
       "Quantity        0.000000\n",
       "InvoiceDate     0.000000\n",
       "UnitPrice       0.000000\n",
       "CustomerID     24.926694\n",
       "Country         0.000000\n",
       "dtype: float64"
      ]
     },
     "execution_count": 7,
     "metadata": {},
     "output_type": "execute_result"
    }
   ],
   "source": [
    "#check missing values\n",
    "df.isnull().sum() * 100 / len(df)"
   ]
  },
  {
   "cell_type": "markdown",
   "id": "d22947cb",
   "metadata": {},
   "source": [
    "    Observation:\n",
    "    - About 24% of customerID and 0.26% of description values are missing"
   ]
  },
  {
   "cell_type": "code",
   "execution_count": 8,
   "id": "8c955fff",
   "metadata": {},
   "outputs": [
    {
     "data": {
      "text/html": [
       "<div>\n",
       "<style scoped>\n",
       "    .dataframe tbody tr th:only-of-type {\n",
       "        vertical-align: middle;\n",
       "    }\n",
       "\n",
       "    .dataframe tbody tr th {\n",
       "        vertical-align: top;\n",
       "    }\n",
       "\n",
       "    .dataframe thead th {\n",
       "        text-align: right;\n",
       "    }\n",
       "</style>\n",
       "<table border=\"1\" class=\"dataframe\">\n",
       "  <thead>\n",
       "    <tr style=\"text-align: right;\">\n",
       "      <th></th>\n",
       "      <th>Quantity</th>\n",
       "      <th>UnitPrice</th>\n",
       "      <th>CustomerID</th>\n",
       "    </tr>\n",
       "  </thead>\n",
       "  <tbody>\n",
       "    <tr>\n",
       "      <th>count</th>\n",
       "      <td>541909.000000</td>\n",
       "      <td>541909.000000</td>\n",
       "      <td>406829.000000</td>\n",
       "    </tr>\n",
       "    <tr>\n",
       "      <th>mean</th>\n",
       "      <td>9.552250</td>\n",
       "      <td>4.611114</td>\n",
       "      <td>15287.690570</td>\n",
       "    </tr>\n",
       "    <tr>\n",
       "      <th>std</th>\n",
       "      <td>218.081158</td>\n",
       "      <td>96.759853</td>\n",
       "      <td>1713.600303</td>\n",
       "    </tr>\n",
       "    <tr>\n",
       "      <th>min</th>\n",
       "      <td>-80995.000000</td>\n",
       "      <td>-11062.060000</td>\n",
       "      <td>12346.000000</td>\n",
       "    </tr>\n",
       "    <tr>\n",
       "      <th>25%</th>\n",
       "      <td>1.000000</td>\n",
       "      <td>1.250000</td>\n",
       "      <td>13953.000000</td>\n",
       "    </tr>\n",
       "    <tr>\n",
       "      <th>50%</th>\n",
       "      <td>3.000000</td>\n",
       "      <td>2.080000</td>\n",
       "      <td>15152.000000</td>\n",
       "    </tr>\n",
       "    <tr>\n",
       "      <th>75%</th>\n",
       "      <td>10.000000</td>\n",
       "      <td>4.130000</td>\n",
       "      <td>16791.000000</td>\n",
       "    </tr>\n",
       "    <tr>\n",
       "      <th>max</th>\n",
       "      <td>80995.000000</td>\n",
       "      <td>38970.000000</td>\n",
       "      <td>18287.000000</td>\n",
       "    </tr>\n",
       "  </tbody>\n",
       "</table>\n",
       "</div>"
      ],
      "text/plain": [
       "            Quantity      UnitPrice     CustomerID\n",
       "count  541909.000000  541909.000000  406829.000000\n",
       "mean        9.552250       4.611114   15287.690570\n",
       "std       218.081158      96.759853    1713.600303\n",
       "min    -80995.000000  -11062.060000   12346.000000\n",
       "25%         1.000000       1.250000   13953.000000\n",
       "50%         3.000000       2.080000   15152.000000\n",
       "75%        10.000000       4.130000   16791.000000\n",
       "max     80995.000000   38970.000000   18287.000000"
      ]
     },
     "execution_count": 8,
     "metadata": {},
     "output_type": "execute_result"
    }
   ],
   "source": [
    "#check descriptive statistics for all numerical columns\n",
    "df.describe()"
   ]
  },
  {
   "cell_type": "markdown",
   "id": "930d2432",
   "metadata": {},
   "source": [
    "# Observation:\n",
    "    - The min and max value for Quantity are -80995 & 80995 Respectively, this negative values could depict returned orders.\n",
    "    - The min and max value for Unit Price are -11062 & 38970 Respectively, these negative values could depict bad-debt incurred by the business.\n",
    "    - Since the objective of this project is to segment customer based on how they behave over time; its better not to perform any form of normalization on the values; so we can use the values to further relate & tell more about their monetary value\n",
    "   - 25percentile of Quantity tells us that 75% of the quantity sold are more than 1\n",
    "   - 50percentile(median) of Quantity tells us that 50% of the quantity sold are more than 3\n",
    "   - 75percentile of Quantity tells us that 25% of the quantity sold are more than 10"
   ]
  },
  {
   "cell_type": "markdown",
   "id": "d9d61326",
   "metadata": {},
   "source": [
    "## STEP 5: Exploratory data analysis"
   ]
  },
  {
   "cell_type": "markdown",
   "id": "5f468110",
   "metadata": {},
   "source": [
    "### Univariate analysis - 1 variable analysis"
   ]
  },
  {
   "cell_type": "code",
   "execution_count": 9,
   "id": "4974ebb1",
   "metadata": {},
   "outputs": [
    {
     "data": {
      "text/plain": [
       "United Kingdom          91.431956\n",
       "Germany                  1.752139\n",
       "France                   1.579047\n",
       "EIRE                     1.512431\n",
       "Spain                    0.467422\n",
       "Netherlands              0.437527\n",
       "Belgium                  0.381798\n",
       "Switzerland              0.369435\n",
       "Portugal                 0.280305\n",
       "Australia                0.232327\n",
       "Norway                   0.200403\n",
       "Italy                    0.148180\n",
       "Channel Islands          0.139876\n",
       "Finland                  0.128250\n",
       "Cyprus                   0.114779\n",
       "Sweden                   0.085254\n",
       "Unspecified              0.082302\n",
       "Austria                  0.073998\n",
       "Denmark                  0.071783\n",
       "Japan                    0.066063\n",
       "Poland                   0.062926\n",
       "Israel                   0.054806\n",
       "USA                      0.053699\n",
       "Hong Kong                0.053145\n",
       "Singapore                0.042258\n",
       "Iceland                  0.033585\n",
       "Canada                   0.027864\n",
       "Greece                   0.026942\n",
       "Malta                    0.023436\n",
       "United Arab Emirates     0.012548\n",
       "European Community       0.011257\n",
       "RSA                      0.010703\n",
       "Lebanon                  0.008304\n",
       "Lithuania                0.006459\n",
       "Brazil                   0.005905\n",
       "Czech Republic           0.005536\n",
       "Bahrain                  0.003506\n",
       "Saudi Arabia             0.001845\n",
       "Name: Country, dtype: float64"
      ]
     },
     "execution_count": 9,
     "metadata": {},
     "output_type": "execute_result"
    }
   ],
   "source": [
    "#check percentage frequency of country\n",
    "df.Country.value_counts() * 100 / len(df)"
   ]
  },
  {
   "cell_type": "markdown",
   "id": "1fff5870",
   "metadata": {},
   "source": [
    "    About 90% of customers are from the 'United Kingdom';to avoid bias in the overall segmentation analysis we would focus on UK customers only"
   ]
  },
  {
   "cell_type": "markdown",
   "id": "994c142f",
   "metadata": {},
   "source": [
    "    Observation\n",
    "    In summary, we have completed data exploration by checking column names, missing values & statistical data description; some data points are missing, InvoiceDate needs to be engineered to get deeper information abut the datetime historical & other field as well\n",
    "    Lets dive in EDA (Exploratory data analysis) leveraging on the hypothesis we generated to get more insights on how we can make the mapping for segment more easier\n",
    "\n",
    "    The four hypothesis generated talks about the likehood of the time,age,frequency & monetary value been a concrete reason for each segment. the idea here; is to explore related keyword in the columns.\n",
    "    NB: since age doesnt exist in the given fields and the objective states to know the how recent, frequent the customers are, we would then focus on these factors: time, frequency & monetary"
   ]
  },
  {
   "cell_type": "code",
   "execution_count": 10,
   "id": "3f8541ba",
   "metadata": {},
   "outputs": [
    {
     "data": {
      "text/plain": [
       "WHITE HANGING HEART T-LIGHT HOLDER     2369\n",
       "REGENCY CAKESTAND 3 TIER               2200\n",
       "JUMBO BAG RED RETROSPOT                2159\n",
       "PARTY BUNTING                          1727\n",
       "LUNCH BAG RED RETROSPOT                1638\n",
       "                                       ... \n",
       "Missing                                   1\n",
       "historic computer difference?....se       1\n",
       "DUSTY PINK CHRISTMAS TREE 30CM            1\n",
       "WRAP BLUE RUSSIAN FOLKART                 1\n",
       "PINK BERTIE MOBILE PHONE CHARM            1\n",
       "Name: Description, Length: 4223, dtype: int64"
      ]
     },
     "execution_count": 10,
     "metadata": {},
     "output_type": "execute_result"
    }
   ],
   "source": [
    "#check frequency of productcdescription\n",
    "df.Description.value_counts()"
   ]
  },
  {
   "cell_type": "markdown",
   "id": "441297ef",
   "metadata": {},
   "source": [
    "    Observation:\n",
    "        1. WHITE HANGING HEART T-LIGHT HOLDER is the best selling product across all region in general\n",
    "        2. At least all products recorded a single purchase with the business; the purcase might exist within a region. \n",
    "        NB: the objective here is not to dive deeper into these"
   ]
  },
  {
   "cell_type": "markdown",
   "id": "4f0aec06",
   "metadata": {},
   "source": [
    "    Barely looking at the features, Certain feature needs to be engineered; before we can further with bivariate & multivariate analysis.\n",
    "     NB: sometimes EDA & Feature Engineering might swap steps for quality investigation; Lets move on to the feature engineering stage"
   ]
  },
  {
   "cell_type": "markdown",
   "id": "45c5ba9c",
   "metadata": {},
   "source": [
    "## STEP 6 & 7: Feature Engineering & Modelling"
   ]
  },
  {
   "cell_type": "code",
   "execution_count": 11,
   "id": "2fcbb32d",
   "metadata": {},
   "outputs": [
    {
     "data": {
      "text/html": [
       "<div>\n",
       "<style scoped>\n",
       "    .dataframe tbody tr th:only-of-type {\n",
       "        vertical-align: middle;\n",
       "    }\n",
       "\n",
       "    .dataframe tbody tr th {\n",
       "        vertical-align: top;\n",
       "    }\n",
       "\n",
       "    .dataframe thead th {\n",
       "        text-align: right;\n",
       "    }\n",
       "</style>\n",
       "<table border=\"1\" class=\"dataframe\">\n",
       "  <thead>\n",
       "    <tr style=\"text-align: right;\">\n",
       "      <th></th>\n",
       "      <th>InvoiceNo</th>\n",
       "      <th>StockCode</th>\n",
       "      <th>Description</th>\n",
       "      <th>Quantity</th>\n",
       "      <th>InvoiceDate</th>\n",
       "      <th>UnitPrice</th>\n",
       "      <th>CustomerID</th>\n",
       "      <th>Country</th>\n",
       "    </tr>\n",
       "  </thead>\n",
       "  <tbody>\n",
       "    <tr>\n",
       "      <th>201987</th>\n",
       "      <td>554348</td>\n",
       "      <td>22693</td>\n",
       "      <td>GROW A FLYTRAP OR SUNFLOWER IN TIN</td>\n",
       "      <td>24</td>\n",
       "      <td>2011-05-24 08:49:00</td>\n",
       "      <td>1.25</td>\n",
       "      <td>13523.0</td>\n",
       "      <td>United Kingdom</td>\n",
       "    </tr>\n",
       "    <tr>\n",
       "      <th>438979</th>\n",
       "      <td>C574344</td>\n",
       "      <td>POST</td>\n",
       "      <td>POSTAGE</td>\n",
       "      <td>-1</td>\n",
       "      <td>2011-11-04 10:18:00</td>\n",
       "      <td>262.73</td>\n",
       "      <td>12415.0</td>\n",
       "      <td>Australia</td>\n",
       "    </tr>\n",
       "  </tbody>\n",
       "</table>\n",
       "</div>"
      ],
      "text/plain": [
       "       InvoiceNo StockCode                         Description  Quantity  \\\n",
       "201987    554348     22693  GROW A FLYTRAP OR SUNFLOWER IN TIN        24   \n",
       "438979   C574344      POST                             POSTAGE        -1   \n",
       "\n",
       "               InvoiceDate  UnitPrice  CustomerID         Country  \n",
       "201987 2011-05-24 08:49:00       1.25     13523.0  United Kingdom  \n",
       "438979 2011-11-04 10:18:00     262.73     12415.0       Australia  "
      ]
     },
     "execution_count": 11,
     "metadata": {},
     "output_type": "execute_result"
    }
   ],
   "source": [
    "#check 2 random samples\n",
    "df.sample(2)"
   ]
  },
  {
   "cell_type": "code",
   "execution_count": 12,
   "id": "bd1926e6",
   "metadata": {},
   "outputs": [
    {
     "data": {
      "text/plain": [
       "312"
      ]
     },
     "execution_count": 12,
     "metadata": {},
     "output_type": "execute_result"
    }
   ],
   "source": [
    "#check the frequency of this customer as a case study\n",
    "df[df['CustomerID'] == 17850]['CustomerID'].count()"
   ]
  },
  {
   "cell_type": "code",
   "execution_count": 13,
   "id": "6bbd5191",
   "metadata": {},
   "outputs": [],
   "source": [
    "#Query UK alone for the analyis\n",
    "df = df[df['Country'] == 'United Kingdom']\n",
    "\n",
    "#remove negative values from quantity & unitprice\n",
    "df =df[(df.Quantity > 0) & (df.UnitPrice > 0)]\n",
    "\n",
    "#drop mising value from customer ID\n",
    "df=df.dropna(subset=['CustomerID'])"
   ]
  },
  {
   "cell_type": "code",
   "execution_count": 14,
   "id": "153937f4",
   "metadata": {},
   "outputs": [],
   "source": [
    "#InvoiceDate\n",
    "#df['InvoiceDate'] = pd.to_datetime(df['InvoiceDate'])\n",
    "df['Date'] = df['InvoiceDate'].dt.strftime('%Y-%m')"
   ]
  },
  {
   "cell_type": "code",
   "execution_count": 15,
   "id": "ec60e292",
   "metadata": {},
   "outputs": [],
   "source": [
    "#extract invoice year-month\n",
    "df['InvoiceYearMonth'] = df['InvoiceDate'].map(lambda date: 100*date.year + date.month)\n",
    "\n",
    "#extract inoice day\n",
    "df['InvoiceDay'] = df['InvoiceDate'].map(lambda date: date.day)\n",
    "\n",
    "#calculate for revenue\n",
    "df['Revenue'] = df['Quantity']*df['UnitPrice']"
   ]
  },
  {
   "cell_type": "code",
   "execution_count": 16,
   "id": "ebebcb4c",
   "metadata": {},
   "outputs": [
    {
     "data": {
      "text/plain": [
       "17841.0    7847\n",
       "14096.0    5111\n",
       "12748.0    4595\n",
       "14606.0    2700\n",
       "15311.0    2379\n",
       "           ... \n",
       "17752.0       1\n",
       "16742.0       1\n",
       "13120.0       1\n",
       "16144.0       1\n",
       "17956.0       1\n",
       "Name: CustomerID, Length: 3920, dtype: int64"
      ]
     },
     "execution_count": 16,
     "metadata": {},
     "output_type": "execute_result"
    }
   ],
   "source": [
    "#check for customer frequency\n",
    "df['CustomerID'].value_counts()"
   ]
  },
  {
   "cell_type": "markdown",
   "id": "b992ca24",
   "metadata": {},
   "source": [
    "    observation:\n",
    "    There are duplicate customerIDs, which could depict the number times customer engaged with the platforms or duplicates observations. to get the total revenue till date, we need to aggregate the each customer revenue so we dont miss out on the actual total revenue value of the customer"
   ]
  },
  {
   "cell_type": "code",
   "execution_count": 17,
   "id": "1ceac1e4",
   "metadata": {},
   "outputs": [
    {
     "data": {
      "text/html": [
       "<div>\n",
       "<style scoped>\n",
       "    .dataframe tbody tr th:only-of-type {\n",
       "        vertical-align: middle;\n",
       "    }\n",
       "\n",
       "    .dataframe tbody tr th {\n",
       "        vertical-align: top;\n",
       "    }\n",
       "\n",
       "    .dataframe thead th {\n",
       "        text-align: right;\n",
       "    }\n",
       "</style>\n",
       "<table border=\"1\" class=\"dataframe\">\n",
       "  <thead>\n",
       "    <tr style=\"text-align: right;\">\n",
       "      <th></th>\n",
       "      <th>InvoiceNo</th>\n",
       "      <th>StockCode</th>\n",
       "      <th>Description</th>\n",
       "      <th>Quantity</th>\n",
       "      <th>InvoiceDate</th>\n",
       "      <th>UnitPrice</th>\n",
       "      <th>CustomerID</th>\n",
       "      <th>Country</th>\n",
       "      <th>Date</th>\n",
       "      <th>InvoiceYearMonth</th>\n",
       "      <th>InvoiceDay</th>\n",
       "      <th>Revenue</th>\n",
       "    </tr>\n",
       "  </thead>\n",
       "  <tbody>\n",
       "    <tr>\n",
       "      <th>66142</th>\n",
       "      <td>541732</td>\n",
       "      <td>84029G</td>\n",
       "      <td>KNITTED UNION FLAG HOT WATER BOTTLE</td>\n",
       "      <td>4</td>\n",
       "      <td>2011-01-21 11:34:00</td>\n",
       "      <td>3.75</td>\n",
       "      <td>16387.0</td>\n",
       "      <td>United Kingdom</td>\n",
       "      <td>2011-01</td>\n",
       "      <td>201101</td>\n",
       "      <td>21</td>\n",
       "      <td>15.00</td>\n",
       "    </tr>\n",
       "    <tr>\n",
       "      <th>66143</th>\n",
       "      <td>541732</td>\n",
       "      <td>84879</td>\n",
       "      <td>ASSORTED COLOUR BIRD ORNAMENT</td>\n",
       "      <td>24</td>\n",
       "      <td>2011-01-21 11:34:00</td>\n",
       "      <td>1.69</td>\n",
       "      <td>16387.0</td>\n",
       "      <td>United Kingdom</td>\n",
       "      <td>2011-01</td>\n",
       "      <td>201101</td>\n",
       "      <td>21</td>\n",
       "      <td>40.56</td>\n",
       "    </tr>\n",
       "    <tr>\n",
       "      <th>66144</th>\n",
       "      <td>541732</td>\n",
       "      <td>84380</td>\n",
       "      <td>SET OF 3 BUTTERFLY COOKIE CUTTERS</td>\n",
       "      <td>12</td>\n",
       "      <td>2011-01-21 11:34:00</td>\n",
       "      <td>1.25</td>\n",
       "      <td>16387.0</td>\n",
       "      <td>United Kingdom</td>\n",
       "      <td>2011-01</td>\n",
       "      <td>201101</td>\n",
       "      <td>21</td>\n",
       "      <td>15.00</td>\n",
       "    </tr>\n",
       "    <tr>\n",
       "      <th>66145</th>\n",
       "      <td>541732</td>\n",
       "      <td>22786</td>\n",
       "      <td>CUSHION COVER PINK UNION JACK</td>\n",
       "      <td>4</td>\n",
       "      <td>2011-01-21 11:34:00</td>\n",
       "      <td>5.95</td>\n",
       "      <td>16387.0</td>\n",
       "      <td>United Kingdom</td>\n",
       "      <td>2011-01</td>\n",
       "      <td>201101</td>\n",
       "      <td>21</td>\n",
       "      <td>23.80</td>\n",
       "    </tr>\n",
       "  </tbody>\n",
       "</table>\n",
       "</div>"
      ],
      "text/plain": [
       "      InvoiceNo StockCode                          Description  Quantity  \\\n",
       "66142    541732    84029G  KNITTED UNION FLAG HOT WATER BOTTLE         4   \n",
       "66143    541732     84879        ASSORTED COLOUR BIRD ORNAMENT        24   \n",
       "66144    541732     84380    SET OF 3 BUTTERFLY COOKIE CUTTERS        12   \n",
       "66145    541732     22786        CUSHION COVER PINK UNION JACK         4   \n",
       "\n",
       "              InvoiceDate  UnitPrice  CustomerID         Country     Date  \\\n",
       "66142 2011-01-21 11:34:00       3.75     16387.0  United Kingdom  2011-01   \n",
       "66143 2011-01-21 11:34:00       1.69     16387.0  United Kingdom  2011-01   \n",
       "66144 2011-01-21 11:34:00       1.25     16387.0  United Kingdom  2011-01   \n",
       "66145 2011-01-21 11:34:00       5.95     16387.0  United Kingdom  2011-01   \n",
       "\n",
       "       InvoiceYearMonth  InvoiceDay  Revenue  \n",
       "66142            201101          21    15.00  \n",
       "66143            201101          21    40.56  \n",
       "66144            201101          21    15.00  \n",
       "66145            201101          21    23.80  "
      ]
     },
     "execution_count": 17,
     "metadata": {},
     "output_type": "execute_result"
    }
   ],
   "source": [
    "#taking this customer as a case study so confirm our duplicate observations behave.\n",
    "df[df['CustomerID'] == 16387]"
   ]
  },
  {
   "cell_type": "code",
   "execution_count": 18,
   "id": "1a675f19",
   "metadata": {},
   "outputs": [],
   "source": [
    "#group customers by their total revenue\n",
    "df['TotalRevenue']= df.groupby(\"CustomerID\")['Revenue'].transform('sum')"
   ]
  },
  {
   "cell_type": "code",
   "execution_count": 19,
   "id": "4d8e62df",
   "metadata": {},
   "outputs": [],
   "source": [
    "#Group date by quantity sold\n",
    "df['QuantityPerDate']= df.groupby(\"Date\")['Quantity'].transform('sum')\n",
    "\n",
    "#Group invoiceYearMonth generated by Revenue\n",
    "df['RevenuePerDate'] = df.groupby('InvoiceYearMonth')['Revenue'].transform('sum')"
   ]
  },
  {
   "cell_type": "markdown",
   "id": "be7c51d6",
   "metadata": {},
   "source": [
    "    Commenmts:\n",
    "    Features has been engineered, we can then continue with bivariate & Multivariate analysis"
   ]
  },
  {
   "cell_type": "markdown",
   "id": "ea383df6",
   "metadata": {},
   "source": [
    "## Bivariate Analysis"
   ]
  },
  {
   "cell_type": "code",
   "execution_count": 20,
   "id": "e004569b",
   "metadata": {},
   "outputs": [
    {
     "name": "stderr",
     "output_type": "stream",
     "text": [
      "/Users/cowrywise/opt/anaconda3/lib/python3.9/site-packages/seaborn/_decorators.py:36: FutureWarning: Pass the following variables as keyword args: x, y. From version 0.12, the only valid positional argument will be `data`, and passing other arguments without an explicit keyword will result in an error or misinterpretation.\n",
      "  warnings.warn(\n"
     ]
    },
    {
     "data": {
      "text/plain": [
       "[Text(0.5, 1.0, 'Quantity of goods sold per month')]"
      ]
     },
     "execution_count": 20,
     "metadata": {},
     "output_type": "execute_result"
    },
    {
     "data": {
      "image/png": "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\n",
      "text/plain": [
       "<Figure size 1080x576 with 1 Axes>"
      ]
     },
     "metadata": {
      "needs_background": "light"
     },
     "output_type": "display_data"
    }
   ],
   "source": [
    "#set width and height of chart\n",
    "plt.figure(figsize = (15,8))\n",
    "\n",
    "#Plot date against quantityPerDate to observe the trend of quantity sold monthly\n",
    "sns.lineplot(df['Date'], df['QuantityPerDate'], marker='o', color='red').set(title='Quantity of goods sold per month')"
   ]
  },
  {
   "cell_type": "code",
   "execution_count": 21,
   "id": "ea26c988",
   "metadata": {},
   "outputs": [
    {
     "name": "stderr",
     "output_type": "stream",
     "text": [
      "/Users/cowrywise/opt/anaconda3/lib/python3.9/site-packages/seaborn/_decorators.py:36: FutureWarning: Pass the following variables as keyword args: x, y. From version 0.12, the only valid positional argument will be `data`, and passing other arguments without an explicit keyword will result in an error or misinterpretation.\n",
      "  warnings.warn(\n"
     ]
    },
    {
     "data": {
      "text/plain": [
       "[Text(0.5, 1.0, 'Revenue generated per month')]"
      ]
     },
     "execution_count": 21,
     "metadata": {},
     "output_type": "execute_result"
    },
    {
     "data": {
      "image/png": "iVBORw0KGgoAAAANSUhEUgAAA3UAAAHwCAYAAAAB7EZiAAAAOXRFWHRTb2Z0d2FyZQBNYXRwbG90bGliIHZlcnNpb24zLjQuMywgaHR0cHM6Ly9tYXRwbG90bGliLm9yZy/MnkTPAAAACXBIWXMAAAsTAAALEwEAmpwYAACD1klEQVR4nOz9d5ycZ33v/7+u6bNVW9WLLcmW3BvGNGNsg00PoQcIIbQQUkg4JyE5OUnOycn5JgRCkl8ChHaoIZCEBJtmjMEGGzCWu2W5qUsrbd+dfs9drt8fM7NaSStpd7Wz097Px0OP3Z2dmfu6713t3O/5XPfnMtZaREREREREpDGFaj0AERERERERWTyFOhERERERkQamUCciIiIiItLAFOpEREREREQamEKdiIiIiIhIA1OoExERERERaWAKdSIiIjVmjNlnjLmx1uNYbsaYXzPG3F3rcYiINDqFOhGRBlUOAnljTMYYc9QY83ljTEetx9VqjDHXGWMO1Xoc9c4Ys8kYY40xkVqPRUSk2SjUiYg0tldaazuAy4DLgT+q7XCaiylpmtdKY0y41mMQEZGl1zQvVCIircxaexS4jVK4A8AYc40x5qfGmCljzMPGmOvKt7/JGLNj9uONMb9njLml/HncGPMRY8wBY8ywMeaTxphk+XvXGWMOGWM+aIwZMcYcMca8Y9bz3GmMedesr4+bXmeM2WaMud0YM2GMedIY84ZT7ZMx5hxjzI+NMWljzA+MMf9kjPnymfZv1jj+whhzT/nx3zfG9C/gsX9pjLkHyAHnGmPeYYzZVX6uPcaY95bv2w58F1hTrphmjDFrjDEhY8yHjDG7jTHjxpivG2N6Z23jbcaY/eXv/Y9THYPyfT9f/hncXt7+XcaYjfM5puXHfsIY8x1jTBZ40RzPf6cx5v+Uj0fGGHOrMabPGPMVY0zKGHOfMWbTrPs/t3zbdPnjc+d53H9c/jhV3s5zZj3uI8aYSWPMXmPMS093PERE5GQKdSIiTcAYsw54KfBM+eu1wLeB/wP0Av8N+A9jzABwC3C+MWbrrKf4FeBfyp//NXAepYC4BVgL/Oms+64Cusu3vxP4J2NMzzzG2A7cXt7OIPBm4OPGmAtP8ZB/AX4B9AF/Drxt1nOdbv9m79M7ytuKle8z38e+DXgP0AnsB0aAVwBd5ef8mDHmCmttltJxH7LWdpT/DQG/A/wS8EJgDTAJ/FN5+xcAnyhvY015/9ad4fC9BfgLoB94CPhK+bnmc0x/BfjL8r6c6vq1N5XHsxbYDPwM+H/l47ML+LPy9nrLx+4fyuP+W+Dbxpi+E7Z30nEHri1/XFE+Tj8rf/1s4Mnyvn0Y+KwxxpzheIiIyCwKdSIije2/jDFp4CCl4PFn5dvfCnzHWvsda21grb0d2AG8zFqbA75JKQBQDnfbgFvKJ9PvBn7PWjthrU0D/5fSSX+FC/xva61rrf0OkAHOn8dYXwHss9b+P2utZ619APgP4HUn3tEYswF4FvCn1tqitfZuSmG04pT7N+s+/89a+5S1Ng98nWNVzPk89vPW2p3lcbrW2m9ba3fbkruA7wMvOM2+vhf4H9baQ9Zah1IofZ0pXU/2OuBb1tofl7/3P4HgDMfu27Pu/z+A5xhj1s/zmH7TWntPeV8Lp3j+/1fev2lKlcfd1tofWGs94N8oTe0FeDnwtLX2S+XtfRV4AnjlCc8113E/lf3W2k9ba33gC8BqYOUZHiMiIrMo1ImINLZfstZ2AtdRCmaVqW4bgdeXpxdOGWOmgOdTOmGGUmXnzeXPfwX4r3LYGwDagPtnPe575dsrxssn+xU5YD4NWjYCzz5hTG+hVPk70RpgojymioMnPNfp9g/g6CnGOJ/Hzt4WxpiXGmN+Xp7iOEUpAPZzahuB/5z1/LsAn1JYWTP7+cvVvvHTPNdx47HWZoCJ8vPM55gety+nMDzr8/wcX1eO3RpKlcvZ9lOq8FWc6rifysz9Z/281fBHRGQB1IFKRKQJWGvvMsZ8HvgIpWl/B4EvWWvffYqHfB/oN8ZcRinc/V759jFKJ/EXWmsPL2IoWUqhsOLEcHGXtfbF83ieI0CvMaZt1on++hOe63T7dzrzeaytfGKMiVOqfv0qpaqXa4z5L8CceN8TtvHr1tp7TvyGMeYIsH3W122UpjKezsy+m1KH015giPkd07nGt1hDlILkbBsoBf8zWcpxiIjILKrUiYg0j78DXlwOal8GXmmMuckYEzbGJEypyck6gHKl7d+Bv6EUEG4v3x4An6Z0zdgglK5BM8bcNM8xPAT8sjGmzRizhdI1dxXfAs4rNwmJlv89yxiz/cQnsdbupzQl8s+NMbFyU43ZU/xOu39nsNDHxoA4MAp45UYeL5n1/WGgzxjTPeu2TwJ/WWloYowZMMa8uvy9fwdeYYx5vjEmBvxvzvx6/LJZ9/8L4F5r7UEWcEyXyHfK2/sVY0zEGPNG4ILyOM5klNI003OrNDYRkZalUCci0iSstaPAF4H/WT7hfzXwx5ROpg8C/53j/+7/C3Aj8G8nTKf8Q0oNV35ujEkBP2B+18wBfAwoUgo6X6Dc0KM8vjSlMPQmShWfo5SassRP8VxvAZ5DaWri/wG+Bjjl55rP/s1poY8tj/t3KF0fNklpuuots77/BPBVYE95CuQa4O/L9/l++ZrHn1NqCIK1difwfkrH/0j5Oc+0zt2/ULpecgK4snxsFnNMz4q1dpzSdXwfpPRz+QPgFdbasXk8NkepYcs95eN0TTXGKCLSioy1mg0hIiL1zxjzNeAJa+2fnfHOTaQ8rfaQtfZPaj0WERGpT6rUiYhIXSpPI9xsSmu+3UypuvZfNR6WiIhI3VGjFBERqVergG9QaiJyCHiftfbB2g5JRESk/mj6pYiIiIiISAPT9EsREREREZEGplAnIiIiIiLSwBrimrr+/n67adOmWg9DRERERESkJu6///4xa+3AXN9riFC3adMmduzYUethiIiIiIiI1IQxZv+pvqfplyIiIiIiIg1MoU5ERERERKSBKdSJiIiIiIg0MIU6ERERERGRBqZQJyIiIiIi0sAU6kRERERERBqYQp2IiIiIiEgDU6gTERERERFpYAp1IiIiIiIiDUyhTkREREREpIEp1ImIiIiIiDQwhToREREREZEGplAnIiIiIiLSwBTqREREREREGphCnYiIiIiISANTqBMREREREWlgCnUiIiIiIiINTKFORERERESkrOD6tR7CginUiYiIiIiIUAp0u0cytR7GginUiYiIiIiIAI4XUPSDWg9jwRTqREREREREAMf1KXoKdSIiIiIiIg0pVXCx1tZ6GAumUCciIiIiIgKkCl6th7AoCnUiIiIiItLyrLVkCm6th7EoCnUiIiIiItLyin6A6zfe1EtQqBMREREREaHgNl6DlAqFOhERERERaXmO59OAPVIAhToREREREREyBY9YuDHjUWOOWkREREREZAmlCi7RSGPGo8YctYiIiIiIyBJSpU5ERERERKRBFb1S58uQqfVIFkehTkREREREWlrB8zENGuhAoU5ERERERFqc08DLGYBCnYiIiIiItLh0wSUSatxo1LgjFxERERERWQLpBm6SAhCp5pMbY/YBacAHPGvtVcaYXuBrwCZgH/AGa+1kNcchIiIiIiJyKhnHoz0WwTbo6uPLEUdfZK29zFp7VfnrDwF3WGu3AneUvxYREREREVl2pc6XAeFGbX1JbaZfvhr4QvnzLwC/VIMxiIiIiIiI4Hh+rYdw1qod6izwfWPM/caY95RvW2mtPQJQ/jhY5TGIiIiIiIjMyfEau/MlVPmaOuB51tohY8wgcLsx5on5PrAcAt8DsGHDhmqNT0REREREWlim4DV050uocqXOWjtU/jgC/CdwNTBsjFkNUP44corHfspae5W19qqBgYFqDlNERERERFpU2vGIhhv3ejqoYqgzxrQbYzornwMvAR4DbgHeXr7b24FvVmsMIiIiIiIip5PKu8Qj4VoP46xUc/rlSuA/jTGV7fyLtfZ7xpj7gK8bY94JHABeX8UxiIiIiIiIzMn1G7/zJVQx1Flr9wCXznH7OHBDtbYrIiIiIiIyH83QJAVqs6SBiIiIiIhIzRXcxl/OABTqRERERESkReUcj7Bp7KmXoFAnIiIiIiItKl3wiEUaPxI1/h6IiIiIiIgsQqrgEgs3fiRq/D0QERERERFZIM8PcLyAiEKdiIiIiIhI43G8AGytR7E0FOpERERERKTlFFwfGr9HCqBQJyIiIiIiLShX9Ak1QedLUKgTEREREZEWlMq7xJug8yUo1ImIiIiISAtKOx7RJmiSAgp1IiIiIiLSYvzAUnB9hToREREREZFGVHD9ZumRAijUiYiIiIhIi3G8oFlWMwAU6kREREREpMXkih6hJqrVKdSJiIiIiEhLSRVcYk3S+RIU6kREREREpMVk8p5CnYiIiIiISCPyA0vO9YmENP1SRERERESk4TheqfOlMQp1IiIiIiIiDcdxg1oPYckp1ImIiIiISMvIFT1ME3W+BIU6ERERERFpIemCR7SJmqSAQp2IiIiIiLSQjOMRCzdXDGquvRERERERETmFILBkHZ9oWNMvRUREREREGo7jBYBtqs6XoFAnIiIiIiItwvF8bK0HUQUKdSIiIiIi0hLyRZ9Qk1XpQKFORERERERaRNrxiIaaLwI13x6JiIiIiIjMIZV3iTXZcgagUCciIiIiIi0gCCzZotd0nS9BoU5ERERERFpA0Q/AmqbrfAkKdSIiIiIi0gIKrg9N2ftSoU5ERERERFpAKdQ1J4U6ERERERFpeumCRzTcnPGnOfdKRERERERkllTea8rOl6BQJyIiIiIiTc5aS7boqlInIiIiIiLSiBwvIAgg1ISdL0GhTkREREREmpzjBjRpngMU6kREREREpMkVXK9JFzMoUagTEREREZGmlip4xJr0ejpQqBMRERERkSaXdpp3OQNQqBMRERERkSZmrSXrNO9yBqBQJyIiIiIiTazU+dI2bedLUKgTEREREZEm5nhBrYdQdQp1IiIiIiLStBzPb+rOl6BQJyIiIiIiTSyVd4mGmjv2NPfeiYiIiIhIS8s0eZMUWIZQZ4wJG2MeNMZ8q/z1nxtjDhtjHir/e1m1xyAiIiIiIq3HWku60NzLGQBElmEbvwvsArpm3fYxa+1HlmHbIiIiIiLSoop+gB9YwqHm7XwJVa7UGWPWAS8HPlPN7YiIiIiIiJyoFTpfQvWnX/4d8AfAiUfzt4wxjxhjPmeM6anyGEREREREpAUVXL/WQ1gWVQt1xphXACPW2vtP+NYngM3AZcAR4KOnePx7jDE7jDE7RkdHqzVMERERERFpUpmCR6TJO19CdSt1zwNeZYzZB/wrcL0x5svW2mFrrW+tDYBPA1fP9WBr7aestVdZa68aGBio4jBFRERERKQZpQsesSZvkgJVDHXW2j+y1q6z1m4C3gT80Fr7VmPM6ll3ew3wWLXGICIiIiIirStdcJt+OQNYnu6XJ/qwMeYywAL7gPfWYAwiIiIiItLEil6A1wKdL2GZQp219k7gzvLnb1uObYqIiIiISOtyvNZokgLLsPi4iIiIiIjIciu4rbGcASjUiYiIiIhIE8o6rdH5EhTqRERERESkCU3n3ZbofAkKdSIiIiIi0oQyjtcSnS9BoU5ERERERJqM6we4ftASnS9BoU5ERERERJpMwW2dzpegUCciIiIiIk3G8Vqn8yUo1ImIiIiISJPJOR5h0xpTL0GhTkREREREmsx0oXWapIBCnYiIiIiINJlMoXWWMwCFOhERERERaSKeH1DwAiIKdSIiIiIiIo2n4AW0ztV0JQp1IiIiIiLSNJwWW84AFOpERERERKSJZFus8yUo1ImIiIiISBNJt1jnS1CoExERERGRJpJ2PKIt1CQFFOpERERERKRJeH5AwfUV6kRERERERBqR04KdL0GhTkREREREmoTjBdhaD6IGFOpERERERKQpZB2PUIt1vgSFOhERERERaRJpxyXWYtfTgUKdiIiIiIg0iVS+9ZYzAIU6ERERERFpAn5gW7LzJSjUiYiIiIhIE3A8vyU7X4JCnYiIiIiINIGC25qdL0GhTkREREREmkC+6BFq0VqdQp2IiIiIiDS8dMEj2oJNUkChTkREREREmkAq7xJXqBMREREREWk8QWDJuwGRkKZfioiIiIiINBzHC7DWYoxCnYiIiIiISMMpuD4tmucAhToREREREWlw+aIPLdr5EhTqRERERESkwaUKLrEWbZICCnUiIiIiItLgMo5HLNy60aZ191xERERERBpeEFhyRZ9oWNMvRUREREREGk6rd74EhToREREREWlgjufXegg1p1AnIiIiIiINq+Aq1CnUiYiIiIhIw0oVPGLhcK2HUVMKdSIiIiIi0rDSeY9opHWvpwOFOhERERERaVDWWjJFt6WXMwCFOhERERERaVCOF4A1Ld35EhTqRERERESkQTluANhaD6PmFOpERERERKQh5V2v1kOoCwp1IiIiIiLSkNIFj2iLX08HCnUiIiIiItKg0o5CHSjUiYiIiIhIA7LWki14xCKKNFU/AsaYsDHmQWPMt8pf9xpjbjfGPF3+2FPtMYiIiIiISHNxvIDAWkIt3vkSlqdS97vArllffwi4w1q7Fbij/LWIiIiIiMi8OV5Q6yHUjaqGOmPMOuDlwGdm3fxq4Avlz78A/FI1xyAiIiIiIs3HcX0tZlBW7Urd3wF/AMyO0SuttUcAyh8HqzwGERERERFpMqmCSzSk6+mgiqHOGPMKYMRae/8iH/8eY8wOY8yO0dHRJR6diIiIiIg0spSapMyo5lF4HvAqY8w+4F+B640xXwaGjTGrAcofR+Z6sLX2U9baq6y1Vw0MDFRxmCIiIiIi0kistWQdhbqKqh0Fa+0fWWvXWWs3AW8CfmitfStwC/D28t3eDnyzWmMQEREREZHmU/QD/ECdLytqEW3/CnixMeZp4MXlr0VEREREROal4AYozh0TWY6NWGvvBO4sfz4O3LAc2xURERERkebjeOp8OZsmoYqIiIiISEPJFDx1vpxFR0JERERERBpKquCqScosOhIiIiIiItJQMgWPaFhRpkJHQkREREREGkbRC/ACSzikVikVCnUiIiIiItIwCp5f6yHUHYU6ERERERFpGI4b1HoIdUehTkREREREGka64BJR58vj6GiIiIiIiEjDSBc8YmqSchwdDRERERERaRgZx9NyBifQ0RARERERkYZQ9AJcP1DnyxMo1ImIiIiISENw1PlyTgp1IiIiIiLSEBwvwKAq3YkU6kREREREpCFkCp6mXs5BoU5ERERERBpC2vGIhhXqTqRQJyIiIiIiDSGVd4lHwrUeRt1RqBMRERERkbrn+up8eSoKdSIiIiIiUvccL6j1EOqWQp2IiIiIiNS9gqvlDE5FoU5EREREROpezvEIG029nItCnYiIiIiI1L10wSMWUXyZi46KiIiIiIjUvVTBJRZWfJmLjoqIiIiIiNQ1zw9wvICIQt2cdFRERERERKSuqfPl6SnUiYiIiIhIXVPny9NTqBMRERERkbqWK/qE1PnylBTqRERERESkrqXyLnF1vjwlHRkREREREalraccjqiYpp6QjIyIiIiIidcsPLI7nK9Sdho6MiIiIiIjUrYLrg631KOqbQp2IiIiIiNQtxwuU6c5AoU5EREREROpWruip8+UZKNSJiIiIiEjdShVcYrqe7rR0dEREREREpG5l8h4xLWdwWjo6IiIiIiJSl/zAknPV+fJMdHRERERERKQuOZ6PrqY7M4U6ERERERGpS44b1HoIDUGhTkRERERE6lKu6GFUqzsjhToREREREalL6YJHVE1SzkhHSERERERE6lLG8Ygr1J2RjpCIiIiIiNSdILBkHZ9ISNMvz0ShTkRERERE6o7jBYDFGIW6M5lXqDPGrDTGfNYY893y1xcYY95Z3aGJiIiIiEircjy/1kNoGPOt1H0euA1YU/76KeADVRiPiIiIiIgI+aKvKt08zTfU9Vtrvw4EANZaD1B0FhERERGRqkg7HtGQrhabj/kepawxpg+wAMaYa4Dpqo1KRERERERaWirvElPny3mJzPN+vw/cAmw2xtwDDACvq9qoRERERESkZQWBJVf0WZGM1nooDWFeoc5a+4Ax5oXA+YABnrTWulUdmYiIiIiItKSiH2AtuqZunuYV6owxv3rCTVcYY7DWfvE0j0kAPwbi5e38u7X2z4wxfw68Gxgt3/WPrbXfWfDIRURERESkKRVcn/KVXzIP851++axZnyeAG4AHgFOGOsABrrfWZowxUeDuypIIwMestR9Z8GhFRERERKTplUKdzNd8p1/+9uyvjTHdwJfO8BgLZMpfRsv/FLdFREREROS00gWPWDhc62E0jMW2k8kBW890J2NM2BjzEDAC3G6tvbf8rd8yxjxijPmcMabnFI99jzFmhzFmx+jo6Fx3ERERERGRJpTKe0Qjup5uvuYV6owxtxpjbin/+xbwJPDNMz3OWutbay8D1gFXG2MuAj4BbAYuA44AHz3FYz9lrb3KWnvVwMDAvHZGREREREQam7WWXNEjFtZyBvM132vqZl//5gH7rbWH5rsRa+2UMeZO4ObZ19IZYz4NfGu+zyMiIiIiIs3N8QICdb5ckPleU3fXQp/YGDMAuOVAlwRuBP7aGLPaWnukfLfXAI8t9LlFRERERKQ5OW6AWnEszHyXNPhl4K+BQUrr1BlKvVC6TvOw1cAXjDFhStM8v26t/ZYx5kvGmMso/aT2Ae9d/PBFRERERKSZFFxPkW6B5jv98sPAK621u+b7xNbaR4DL57j9bfN9DhERERERaS2pgq6nW6j5Hq3hhQQ6ERERERGRxUg7HlGFugWZb6VuhzHma8B/UVpUHABr7TeqMSgREREREWk91lqyjkdXIlrroTSU+Ya6Lkpr071k1m0WUKgTEREREZEl4XgBQWAJqfPlgsy3++U7qj0QERERERFpbY4X1HoIDWm+i4+fZ4y5wxjzWPnrS4wxf1LdoYmIiIiISCtxPF+dLxdhvlcgfhr4I8CFmc6Wb6rWoEREREREpPWk8i7RkJqkLNR8j1ibtfYXJ9zmLfVgRERERESkdWUcj1hEoW6h5nvExowxmykv7W6MeR1wpGqjEhERERGRlmKtJV3QcgaLMd/ul+8HPgVsM8YcBvYCb6naqEREREREpKUU/QA/sIRD6ny5UPMNdfuttTcaY9qBkLU2Xc1BSf07PJmnPR5mRVus1kMRERERkSagzpeLN9/a5l5jzKeAa4BMFccjDaDoBTwzkuGZUf0qiIiIiMjSKLh+rYfQsOYb6s4HfkBpGuZeY8w/GmOeX71hST0bThUASyrvMp13az0cEREREWkCmYJHRJ0vF2VeR81am7fWft1a+8vA5UAXcFdVRyZ1yfUD9o9n6UpESUTCHJrM1XpIIiIiItIE0gWPuDpfLsq8j5ox5oXGmI8DDwAJ4A1VG5XUreFUAT+ASDhERzzCaNohX1SpXERERETOTrrgqvPlIs2rUYoxZi/wEPB14L9ba7PVHJTUJ88P2DeWpTNR+rUxxhAOGYam8mwe7Kjx6ERERESkURW9AE+dLxdtvt0vL7XWpqo6Eql7o2kH17fHvYPSGY9yeCrH+t42LRQpIiIiIovieJr5dTbmexa+yhhzhzHmMQBjzCXGmD+p4rikzviBZe94lu5k9LjbwyGDtTCSLtRoZCIiIiLS6AquljM4G/MNdZ8G/ghwAay1jwBvqtagpP6MZxyKXjDnPOfORJT94zn8wNZgZCIiIiLS6LKOOl+ejfkeuTZr7S9OuM1b6sFIfQoCy57RLJ3x6Jzfj4ZDFH2f8YyzzCMTERERkWYwnXeJqUnKos33yI0ZYzYDFsAY8zrgSNVGJXVlPOuQd/3TXjPXEYuyfzyLtarWiYiIiMjCZBxP/RnOwnwbpbwf+BSwzRhzGNgLvKVqo5K6Ya1l71iWjvjpf1US0TBjGYdU3qO7be6KnoiIiIjIiVw/oOgHdKnz5aLNd/HxPdbaG4EBYBtwHfD8Ko5L6sREtki26JOIhs9430Q0zIEJrXYhIiIiIvNXcH0U587OaUOdMabLGPNHxph/NMa8GMgBbweeQYuPNz1rLXtHs7RH51fQbY+VqnVZR5dbioiIiMj8OJ46X56tM1XqvgScDzwKvBv4PvB64Jesta+u8tikxqZyLpmiSzJ25iodlBYjj4bDDE3lqzwyEREREWkW6nx59s5UgjnXWnsxgDHmM8AYsMFam676yKSmrC2tS5ecZ5WuojMR4fBUng19bcQj8wuDIiIiItK6UgWPaFgTMM/GmSKxW/nEWusDexXoWkMq7zGVc2mLLSzUhYzBAMPTWoxcRERERM4sU9ByBmfrTGfslxpjUuXPDZAsf20Aa63tquropGb2jWdpm0dzlLl0JaIcmMixZkWSiP6DioiIiMgpeH6A4wV0nGI9ZJmf04Y6a63mz7WgVMFlPOsw0JFY1OMj4RBeYBnPOKzsTi7x6ERERESkWRTUJGVJqIwiJzkwniUZWdi0yxN1xCPsG89pMXIREREROSXH9dHp4tlTqJPjpAsuo+kiHYmzC3XxSJhc0Wcq5575ziIiIiLSkkqdL9Uk5Wwp1MlxDk7kl+xC1bZYmP3jWoxcREREROaWLnjEIookZ0tHUGZkHY+RVIHOs6zSVbTFIkzmXNIFVetERERE5GRpdb5cEjqCMuPgZI5IOIQxS1cCj4VDHNZi5CIiIiJyAs8PKHiBuqUvAR1BASBf9DkyVaBriap0FZ2JCEemChRcf0mfV0REREQam+MF6Gq6paFQJwAcmswRDZslrdIBGGMIhwxHplWtExEREZFjHC9AjS+XhkKdUHB9Dk/l6UxUZ9HHrkSUQ5N5XF/rkIiIiIhISdbxCC1xQaFVKdQJhyfzhI2p2n+qcMjgB5axtFOV5xcRERGRxpN21CRlqegotjjH8zk0matala6iKxFl33iWIFCRXUREREQglddyBktFR7HFHZ0qAKVqWjVFwyEKbsBkrljV7YiIiIhI/fMDS8H1iapStyR0FFtY0Qs4MJGjOxlblu21xyLs1WLkIiIiIi3P8dQZfSkp1LWw4VSBwNqqV+kqkrEwqbzLdF6LkYuIiIi0soKrBnpLSaGuRbl+wL7xLF1VvpbuRIlImEOTuWXdpoiIiIjUl3zRI6RV6paMQl2LGk4V8ANLZJnnMXfEI4ymHfJFldxFREREWtV0wVWTlCWkI9mCPD9g39jyV+ng2GLkQ1NajFxERESkVWXU+XJJ6Ui2oNG0g+vbmnUb6oxHOTyVo+hpLrWIiIhIq/EDS94NiCxTX4dWoFDXYvzAsnc8S3dy+at0FeGQwVoYSRdqNgYRERERqY1S50uLMQp1S6Vqoc4YkzDG/MIY87AxZqcx5n+Vb+81xtxujHm6/LGnWmOQk41nHIpeUPM1QToTUfaP5/C1GLmIiIhIS3HU+XLJVfPM3gGut9ZeClwG3GyMuQb4EHCHtXYrcEf5a1kGQWDZM5qlM167Kl1FNBzC9QPGM06thyIiIiIiy6jUME9VuqVUtVBnSzLlL6PlfxZ4NfCF8u1fAH6pWmOQ441nHfKuXzcXpbbHIuwfz2KtqnUiIiIirSJVp50vE9EQPe0xBrsSjKYdggaaURap5pMbY8LA/cAW4J+stfcaY1Zaa48AWGuPGGMGqzkGKbHWsncsS0e8qj/yBUlEw4xlCkznXVa0xWo9HBERERFZBhnHI1bjS4FOlIiGKHgB7/j8fRyazLOuJ8mnf/Uqzl/ZSagBGrpU9Whaa31r7WXAOuBqY8xF832sMeY9xpgdxpgdo6OjVRtjq5jIFskWfRLRcK2HcpxENMKBCS1GLiIiItIKgsCSdXyi4foKSrFIiPd9+X4OTZaW3To0mefdX9zBeLZY45HNz7JEZGvtFHAncDMwbIxZDVD+OHKKx3zKWnuVtfaqgYGB5Rhm07LWsnc0S3u0fqp0FR3xCOMZh6zj1XooIiIiIlJljhdQj50vA2tnAl3Fock8Rc+v0YgWpprdLweMMSvKnyeBG4EngFuAt5fv9nbgm9Uag5RM5VwyRZdkrL6qdBXRcFiLkYuIiIi0AKdOQ1LIGNb1JI+7bV1PklikPs+fT1TNSt1q4EfGmEeA+4DbrbXfAv4KeLEx5mngxeWvpUqsLa1Ll6zDKl1FZyLC4al83f4nFxEREZGlkS/6dVelA5jOuXz4tZfMBLvKNXV97Y3R96FqZ/rW2keAy+e4fRy4oVrbleOl8h5TOZeBjnith3JKIWMwwPB0gQ197bUejoiIiIhUSdrxiIbqq0kKwK2PDLFj3ySf/tWriEdCdCai9LXHGqJJCizTNXVSO/vGs7TVWXOUuXQlohyYyOH5WoxSREREpFml8x7RSH0FJT+wfOuRI+Rdn0LRZyRVYKAz3jCBDhTqmlqq4DKedWivo2UMTiUSDuEFVouRi4iIiDQpay2Zolt3yxncv3+SI9MFXnnJmloPZdHq64jKkjowniUZqf9AV9ERj7BvPKfFyEVERESakOMFYE3dXVN36yND9LbHeO7mvloPZdEU6ppUuuAymi7SHq//qZcV8UiYXNFnKufWeigiIiIissQcN8BSX2/eH5jI8dDBKV528WoidVZBXIjGHbmc1sGJPLFwqO7eCTmTtliY/ePZWg9DRERERJZY3vWotzPTWx8eIho23HzhqloP5awo1DWhrOMxkirQmWicqZcVbbEIkzmXdEHVOhEREZFmki54ROuoGpYpePzwyRGuO2+Q7mS01sM5K/VzVGXJHJrMEWnAKl1FLBzisBYjFxEREWkqqbxHLFI/8eP7jx+l6AW88tLVtR7KWaufoypLIl/0GZoq0NWAVbqKzkSEI1MFCq4WIxcRERFpBtZaskW3bip1fmD51qNHuGhNF+f0d9R6OGetPo6qLJlDkzmi4frrKrQQxhjCIcORaVXrRERERJqB4wVYC6E6OUe9d+84o2mHV17auMsYzKZQ10QKrs/hqTydicaeEwylxcgPTeZxtRi5iIiISMNz3Po6p7v14SEGO+M8+5zGXcZgNoW6JnJ4Mk/YmLp5B+RshEMGP7CMpbUYuYiIiEijK7he3SxmsGc0w2NDKV5+8WrCocY/bwaFuqbheD6HJnNNUaWr6EpE2TeeJQjq5U+AiIiIiCxG2vGIhuojenzrkSPEIyFeckFjL2MwW30cWTlrR6cKAE3zbgNANByi4AZM5oq1HoqIiIiInIVUoT46X07nXe58aoQXnT9IRwM3FjxR7Y+snLWiF3BgIkd3MlbroSy59liEvVqMXERERKRhWWvJOvUR6m7beRTXt03TIKWi9kdWztpwqkBgbVNV6SqSsTCpvMt0XouRi4iIiDSioh/gB7bmfR88P+A7jx7hsvUr2NDbVtOxLDWFugbn+gH7xrN0NdG1dCdKRMIcmszVehgiIiIisggFN6AeSg8/2zPOeLbIKy9priodKNQ1vOFUAT+wROpkIcdq6IhHGEk55IperYciIiIiIgvkeH5ddL685eEhVncnuGpTT62HsuSaNwm0AM8P2DfW3FU6KC1GHgkbjpSbwYiIiIhI40jl3Zp3vnxqOM0TR9O84pLVNZ8GWg0KdQ1sNO3g+pZoE1fpKjrjUQ5P5Sh69bVwpYiIiIicXqYOmqTc+sgQyWiYG7atrOk4qqX500CT8gPL3vEs3cnmrtJVhEMGa2EkrWqdiIiISCPJFLyaFiEms0XufnqMG7YP0h5vnmUMZlOoa1DjGYeiF7REla6iMxFl/3gOX4uRi4iIiDQEx/Pxgtp2af/uY0fwAssrLm6+BikVrZMImkgQWPaMZulo0ncaTiUaDuH6AeMZp9ZDEREREZF5cGp86YzrB3x351Gu2tjD2p5kTcdSTQp1DWg865B3feKRcK2HsuzaYxH2j2exVtU6ERERkXrnuLUNdT95eoypnNuUyxjMplDXYKy17B1rvSpdRSIaJuN4WoxcREREpAGkCy6RGnW+tNZy68NDrOtJcvmGFTUZw3JRqGswE9ki2aJPItp6VbqKRDTCgQktRi4iIiJS79IFj1iNekA8cTTNM6MZXnHJGkwTLmMwm0JdA6lU6dqjrVmlq+iIRxjPOGQdLUYuIiIiUs/SBbdmyxnc+sgQ7bEw158/WJPtLyeFugYylXPJOC7JWOtW6Sqi4TBDU/laD0NERERETqHoBTXrfDmWcbjnmTFefMHKljh3VqhrENaW1qVLtniVrqIzEeHwVB7H82s9FBERERGZQy3P077z6BGshZc3eYOUCoW6BpHKe0zlXNpiCnUAIWMwwPC0FiMXERERqUeFGnW+dDyf7+08ytXn9LKqK1GTMSw3hboGsW88S1sLN0eZS1ciyoGJHJ5f21a5IiIiInKyrOPVpPPlj58aJV3weNWlrVGlA4W6hpAquIxnHdpbdBmDU4mEQ3iB1WLkIiIiInUo7XhEw8t7PZ21llseHmJjbxsXr+1e1m3XkkJdAzgwniUZUaCbS0c8wr7xnBYjFxEREakzqbxLPLK8M80eG0qxbzzHKy9t/mUMZlOoq3MZx2M0XaQ9rqmXc4lHwuSKPlM5LUYuIiIiUi9cP8D1g2XvfHnrw0N0xiO88LyBZd1urSnU1bkD4zli4VBLvdOwUG2xMPvHs7UehoiIiIiUOd7y9zwYThW4d+84N124ikSL9aJQqKtjWcdjJFWgM6Gpl6fTFoswmXNJF1StExEREakHBXf5lzP49qNHAHjZxauXfdu1plBXxw5N5oioSjcvsXCIw1qMXERERKQu5ByP8DKewxZcn+8/fpTnbO5noDO+bNutFwp1dSpf9BmaKtClKt28dCYiHJkq1ORdIRERERE53nTBIxZZvqjxoydHyDo+r7yk9ap0oFBXtw5N5oiGjap082SMIRwyHJlWtU5ERESk1jIFl1h4eaKGtZZbHx5i80A7F6zuWpZt1huFujpUcH0OT+XpTERrPZSG0pWIcmgyj6vFyEVERERqxvMDHC8gskyh7qGDUxyczPPKS1prGYPZFOrq0OHJPGFjCLXoL+VihUMGP7CMpbUYuYiIiEitFJa58+WtjwyxIhnl2hZbxmA2hbo643g+hyZzqtItUlciyr7xLEGgxchFREREasFZxh4HQ1N5duyb5KaLVhFdpspgPWrdPa9TR6cKAMu+UGOziIZDFNyAyVyx1kMRERERaUm5or9sM86+/egRQiHDyy5qzQYpFQp1daToBRyYyNGdjNV6KA2tPRZhrxYjF5ElUnB99oxmODKVx1rNAhAROZNU3iW+DJ0vc0WP2x8f5vlb+ultb+3zZ/XLryPDqQKBtarSnaVkLMxYxmE679Kd1DRWEVmcrONxaDLH0FSBSMjgBgFTeZetgx3LdvG/iEgjSjvesnS+vGPXCHnX51WXrqn6tuqdQl2dcP2AfeNZunQt3ZKIR0IcmszRneyu9VBEpMGkCy4HJ3KMpBwi4RC97TFCxmCtZSRVIFNwuWBNN+1xvYSKiJzI8wMKrk97rLp/IwNr+dYjQ5y/spPzVnZWdVuNQG811onhVAE/sHr3d4l0xCOMpBxyRa/WQxGRBmCtZTrn8vChKXbsm2Qq59LbHqM7GZ25LsQYQ297HD+AHfsmGEkVajxqEZH643gByzHn7IH9kwxNF3ilqnSAKnV1wfMD9o2pSreUjDFEwoYjUwU2D3bUejgiUqestUzlXPaOZ5nOuSSiYfo74qd9THs8QiwS4tHD02wseJzT365p8yIiZY4XsBxXH9/y8BC9bTGeu7lvGbZW/6pWFjLGrDfG/MgYs8sYs9MY87vl2//cGHPYGPNQ+d/LqjWGRjGadnB929JtWKuhMx7l8FSO4jKvlSIi9S8ILKPpAjv2TfDQwSlcL6C/I07HPKdURsMh+jviHJrM8cihKQrL2L5bRKSeZR2v6p0vD07kePDgFC+7uLWXMZitmpU6D/igtfYBY0wncL8x5vby9z5mrf1IFbfdMPzAsnc8q4YeVRAOGayFkXSBdT1ttR6OiNQBP7CMpQvsHcuRd3064pEzVuZOJWQMfe1xUnmXHfsmuHBNNz0t3n1NRCTtuFVvknLrI0NEQoabLlxV1e00kqqFOmvtEeBI+fO0MWYXsLZa22tU4xmHohfQGVeoq4bORJT94zlWdyc1PUqkhbl+wGjKYe94Ftcv/c1dqkYnXckojufz4IFJtgx2sK6njZD+3ohIi8rkPWJVXM4g43j88IkRXnjeACva9EZaxbLUK40xm4DLgXvLN/2WMeYRY8znjDE9p3jMe4wxO4wxO0ZHR5djmMsuCCx7xrLznu4jCxcNh3D9gPGMU+uhiEgNFL2AA+NZfr5nnKdG0iSjYfra40t+whGPhOltj7N7LMPOI9Oa9i0iLckPLDnXr+qUyNsfP4rjBWqQcoKqhzpjTAfwH8AHrLUp4BPAZuAySpW8j871OGvtp6y1V1lrrxoYGKj2MGtiPOuQL/rEI+FaD6Wptcci7B/PatFgkRZScH32jmX4+Z6x0ptnsQh97fGqnmiEQ4b+9gRTOZf790+QKrhV25aISD1yPL+qnS/9wPKtR45w4ZouNg+oEd5sVQ11xpgopUD3FWvtNwCstcPWWt9aGwCfBq6u5hjqlbWWvarSLYtENEzG8ZjO6wRLpNnlih5PD6f52Z5xDk3k6UrE6GuPL+tyMSuSMcImxP37JjkyldcbSiLSMhy3up0vf7FvgpG0wysvUZXuRFVLFMYYA3wW2GWt/dtZt68uX28H8BrgsWqNoZ5NZItkiz797Yu7QF8WJhGNcGAip7nXIk0q43gcmsxxdLpAJGTobYtVvfva6SRjYaJhw66jKabyLlsHO7QOqYg0vVzRI1TFWt23Hh6ivyPONedqGYMTVbNM9DzgbcCjxpiHyrf9MfBmY8xlgAX2Ae+t4hjqUqVK1x5VlW65dMQjjGUKZB1vyZojiEjtTeddDk5kGU0XiYVD9LbFMDUMc7NFwiH62+MMpwpkCx7b13Tp74+INLV0wSNapSYpe8eyPHJ4mrc/Z5Oa382hmt0v74Y5o/p3qrXNRjGVc8k4Ln3tiVoPZcES0RCxSIjAWkLGUPQCCm5jNASIhsMMTeXZurKz1kMRkbNgrWU677JvLMtkrkgiEqGvvX7C3GymvOxB1vHYsW+CC9Z0MdDZeH/7RUTmI5V3iVcp1H3rkSFikRA3XbiyKs/f6PSW4TKztrQuXbIBq3SJaIiCF/COz9/Hock863qSfOKtV5Zub4Bg15mIcHgqz4a+NjWnEWlAQWCZzBXZO5YlXXBpi0Xo72iMgNQejxCLhHjk0DQb+zzO6W/XO80i0lSCwJJ3A3qiS3+ONZ13ufPJUV50/gCdCS0DNhdN8F9mqbzHVK50MtJoYpEQ7/vy/RyazANwaDLP+758f1XXIllKIWMwwPB0odZDEZEF8APLSKrAffsmeOTwNEEA/R2Jhvs7Gg2H6O+Ic3AixyOHpii4fq2HJCKyZBwvAGxVZk18//GjFH0tY3A6jXE23kT2jWdpq8I7GNXm+gHpgjcT6CoOTebx/Mbp7NaViHJgIofn139lUaTVeX7Akak89+4d5/EjqfKSAXGSscb7G1oRMob+jjg5x2fHvgmmcsVaD0lEZElU640qzw/4zqNHuGRdNxv72quyjWagULeMUgWX8azTcBfKP3xwit/+6oMcnipNuZxtXU+SveNZHj40VZvBLVAkHMILrBYjF6ljrh9waDLHz/eM88TRNIlIacHwZpo23ZWMkoiGeWD/JAe0jqaINIF80a9Kle7neycYyxR5lap0p6VQt4wOjGdJRhon0E3minzk+0/yJ998jMBaPC/gE2+9cibYretJ8k+/cgVfv+8Af/rNx/jX+w4QNMCJSUc8wr7xnE6iROqM4/nsH8vys93j7B7J0B6L0N9R3QXDaykeCdPbHueZ0Qw7h6YpeppBICKNK1P0iIaW/u/1LQ8PsbIrzlUbe5f8uZtJ4ySMBpdxPEbTRfra63+dtMBabtt5lC/8dB+OF/CmZ63n9VeuJxYJkYiE+Mq7nk1gIWSg6AW86/mbcTzLV+49wONDKT74kvPpTtbvRazxSJixjMNUzqWnAX4eIs2u4PocmsxzaDKHAbqTsZZpIhIOGQY6Ekzmity/f4IL13bTpSYAItKAUnl3yfssPDOSYdeRFO98/jkt87qwWAp1y+TAeI5YOFSXLbdn2zOa4eN37ubJ4TSXrOvmfS/czLqetpnvF9yTlzBIxsJ88MXnceGaLj79kz387r8+yH+/6XwuXNO93MOft7ZYmP3jWYU6kRrKlhcMH5oqEAkbVrRQmDvRimSMfNHn/n2TbFvVyaruRN2/XoiIVASBJVv06Eku7XnVrQ8PkYiGuHG7ljE4E4W6ZZB1PEZSBXrrOEDkih7/cu8Bbn1kiK5ElA+++DxeeN7AvE8qjDG89KLVnLeyk7/+3hP88X8+ytufs4nXXL62Lk9M2mIRxjIO6YKr1rgiyyxdcDk4kWM4VSAaDtPbHiNUh38nllsyFiYaNjxxNMV0wWXLQAeRJp16KiLNpegHWMuSnvNN5or8+OlRbrpwFR0N1o+iFnSElsGhyRyROq3SWWv5+Z5xPvWTPYxnitx80Sp+9ZpNdCQW96uxeaCDj73hMv7hh0/z/366j51DKT5w49a6DE6xcIjDU3m2raq/sYk0G2stqbzHvoksE5ki8UiIvvZ4Xf5drKVIuHRchlMFMnmPC9Z2NdzSDSLSegquz1L/Nf/eY0fxAssrLlm9xM/cnPQWYJXliz5DUwW6FhmSqmk4VeAvvv04//e7T9CZiPLh113Cb163ZdGBrqI9HuFDN2/j3S84h/sPTPKBrz3EU8PpJRr10ulMRDgyVdBaUSJVZK1lIlvkwYNT3H9gkrzj098RpzMRVaA7BWMMvW1x3MBy394JRtNaW1NE6ttSn0u5fsB3HzvCFRt6jrsMSE6t/pJGkzk0mSMaNnV18uL5Af/10BBfve8AIQPvfN45vPLSNUt6LYsxhlddupbzVnby4due5A//4xHe+fxzePnFq+vmWBhjCIcMR6bznNPfUevhiDSVILCMZx32jWXJOD5tsTADHfFaD6uhdMQjuJEQjx6eZmOfx6a+9pa95lBE6luq4BELL92yM/c8M8ZkzuV3LlWVbr4U6qqo4PocnsrT01Y/19LtHJrm43fu5sBEjuec28e7X3AuA53VO9HatqqLv3vDZXzsB0/xzz/ew2NDKX7n+i11M52oKxHl0GSedT1tTds2XWQ5+YFlLF1gz1iWghvQES8tSyCLEy1PxzwwniNd8Ni2qpNEtHnW6xOR5pDOe0QjS/em062PDLF2RZIrNvQs2XM2u/o4s25ShyfzhI2piwYA03mXL/x0H7fvGmagM87/fPl2rj6nb1m23ZWM8j9fcQH/+eBhvvizfewZzfBHL91WF9WxcMiUT0IdVq9InvkBIjIn1w8YTTnsHc/i+gGd8SgdcV2vuhRCxtDfESeVd9mxb4KL1nazoo7eLBSR1matJVt0WbFEnS+fOJriqeEM77323Lo4h24UCnVV4ng+hyZzdC9xa9eFstZyxxMjfO6eveSKPq+9Yh1vetb6ZX+nN2QMr71iHeev7ORvbnuSD/7bw7z32s285IKVNZ+O2ZWIsm88y8quBCFNbRJZkKIXcHQ6z/6JHEFQulZV66xVR1cyiuP5PLB/ki2DHazvbav5309pHp4fUPQDil6A4/qkHY+s45OIhtjU3048ogqxzM3xAqxdukuNbn34CG2xMNdvG1yS52sVCnVVcnSqdGF7La9/ODCR4+N3PsPOoRTbV3fxmy/czKb+9pqNB+Citd38/Zsu46O3P8U//ugZdg5N85vXbanpdKJoOMR03mUyV6RP08RE5qXg+hyZznNwIkdgoTsRVfv9ZRCPhOltD/HMaIZ0wWPrys4lX+xXmlfROz64ZRyPbLEU3op+gIGZDoaRUIhoOESq4DKacdi2spP+zkQthy91ynEDwC7Jc41nHO7ZPcbLL15dN5fqNAodrSooegEHJmpXpSu4Pl/fcZBvPHiYtmiY375+CzduX1k3JewVbTH+/JUX8vUdB/nqLw7wzGiWD928jQ29tetu1B6LsHc8S297TO98i5xGruhxeDLP4anS9PKuROsuGF4r4ZBhoCPBRK7IA/snuHBtd10uGyPLz1o7E9qKXkDB9ck4PtlyePODYyfeBkM0bIiGQ7THInSd4v9xkjBFL+CRwylWdxfZPNChNxLkOAXXW6JIB9997CiBljFYFIW6KhhOFQisrcmJzo59E3zirt2MpB1u2DbIO553Dt3J+nuxD4cMb756A9tXd/GR7z/J73/9Id7/oi286PzalNqTsTBjGYdUwavL4yVSS9ZaUoVSmBtJF4iEDD1tWjC81lYkY+SLPjv2TbJtVSeruhN6U6oFBEE5uPkBjhuQL3pkih45xydX9KjkNmtLr7XRcIho2NCViC76/2wsEqK/PcZY2mE867B9VZdmtsiMUufLsw/6RS/gezuP8qxNvazuVp+DhVKoW2KuH7BvPLvs15SMZxw+/ZM93LN7nPU9Sf7vay7m4rXdyzqGxbhs/Qr+/o2X8Tfff5K/vf0pdh6e5t3XnluTufuJSLh8HWT9HzeR5eB4PuPpIgcmc+SLPvFIiN42VbPrSTIWJho2PHE0xXTBZctAh6bBNgE/sDPVNsf3yZWrbRnHI+/6GAxgsUDYVIJbiBXJ6v3/NMawoi2G4/k8dHCKtT1Jzu1X1U4g7XhL0kH8x0+PMp13edWla5ZgVK1HoW6JDacK+IFdthdVP7B8+9EhvvzzA/iB5W3XbOQ1l69tqPb8fR1x/vKXLubLP9/Pvz9wiKdGMnzo5m2sWeZulO3xMCMph3P6Pc3jlpZlrSWV9ziSynN0uoABOuJR2jv0f6JeRcrLHgynCmTyHhes7dLfsAZwqsYkuaKH4wUz17ZZKte3lcJbMhqu6Rsr8UiYgY4QoymH8UyR7au76G1XN9ZWZa0lW/DoOstZTtZabn14iA29bVyyTm+uL4b+6i8hb5mrdE8Np/mnO59hz2iWKzb08L4XbmZVd2NexBwOGd7+3E1csKaLv739KT7wtYf4nRu28vwt/cs2BmMMkbBhaKrAlsHaL7cgspxmV+UKrk8sHNIUywZijKG3LU7G8bhv7wQXrOliQE0tau50jUlcPwBObkySiITrfjmQ46t2k6xZoapdq3K8gMDas36tePxIij1jWd5/3RbNBlkkhbolNJp2cD1LNFHdP2oZx+NLP9/Pdx89Qk97jA/dvI3nbu5riv8Ez9rUy9+/8TI+fNuT/PX3nmDnJav59eeds2yVx854lKGpHBt62/TiJE2vUpUbms4znJpVlWvXS0Oj6ohHcCMhHj08zaY+j0197VqqpYrOpjFJMzQYikfC9LeHGClX7S5Y3UWPqnYtxfGCJXmeWx4eoiMe4brzB5bk+VqRXrmXiB9Y9o5nq9pkw1rLT54e4zN372E67/LKS9fwlmdvaLppNoNdCf6/X76Yz/90H7c8PMSTR9P84c3bWNlV/XedwyGDtTCSLrCup3bdOEWq6fiqnEcsHFZVrolEy9Mx94/nSBU8tq3qrOmyMY1uvo1JoLQm61I0JqkHiWiIWCQ0U4UphdaTT+CNKTVOcjyfBw9Osq4nyTn9HQ11GYgsnuP6Z935ciRd4Od7xnnN5Wv1t+osNFcaqKHxjEPRC+is0pSJoak8n7hrNw8dnGLLYAd/+ooLm3qKYDQc4t0vOJcLVnfxDz98mg987SF+78atXH1OX9W33ZmIsn88x+ruZFO8kyoCx6pyh6dKHSyPVeU0Ra8ZhYyhvyPOdN5lx74JLlrbzYo2VVDOxFpLwQ3Iuz7pvMtkvkg6Xwluy9uYpJYS0RAFL+Adn7+PQ5N51vUk+cRbryzdPkewg2NVuyNTBcYyRbavUtWuFaQKLtHQ2QX47zx6BICXXaRlDM6GQt0SCALLnrEsHfGlP5yuH/Dv9x/i3+4/SDQc4jeuPZebL1rdMmHjeVv6OXegnb/63hP8xbd38cuXr+Vt12ysaiOaymKr4xmHwWWoDopU00xVbiJHwStV5dTBcv7mW62oV93JKAXX54H9k2xd2cm6nqR+9rMUXJ98sXSt20S2SKrgzkyZDBtDIhqmK9nYFbczKbg+R6cLHEkVODqd58h0gbc8ewMf+sajHJrMA3BoMs/7vnw/X3nXs0/7+2+Mobc9XvqdOzjJelXtml7G8c7qcpWC63PbzmGuObdP51xnSaFuCYxnHfJFn/4lXrPl4YNTfOKu3RyeynPt1n7e+fxzW7LD1OruJH/z2kv5zN17+MaDh9l1NM0f3HT+kh/v2dpjEfaPZxnojOsESBrO7KrccLpAiHJVLq4XzIVYTLWiHiWiYaLhEE+PpEnlXbau7GzJa4Ydz6dQDMg4LlM5l8mcix8EWEqVzUQkTGc82nRvmlprSRc8jqYKHJkucKQc3I6W/03kisfdvyMe4V0vOHcm0FUcmswTBPObaJeIholHjlXtLljdpUpxE6r8bp1Ng8A7nxwl43i88hItY3C2FOrOkrWWvUtcpZvMFfnc3Xu586lRVncn+F+vupArNvQs2fM3olgkxG9et4ULVnfxT3c+w+/+64N88CXnV+24JKJhxjIFpvOuXoikYTiez2ja4eBEDsfziYcj9KkqNydrLU65sUWh3Jmw4Fa+Ln3+gq39vP9fHlhwtaIehUOGgY4EE9kiDxyY5MI1XXQu83qqy8n1A3JFn3zRYyJXZDrnUnADQqYU4GKREB3x5mhWAhBYy0S2OBPajk4XZoLbkek82aJ/3P1722Os7k5wxcYVrOpOsrorwaruBKu7E3QmonQlI6zrSR4X7Nb1JDkwkWMi687r8o/jqnYHJlnf08am/nZV7ZpI0Q/wg8V3vrTWcusjQ5zb386Fa7qWeHStR6HuLE3mXLJFn/72s68aBdZy286jfOFn+3DcgDc+az2vv3JdTRbirlfXnT/I5sEO/uq7T/Dnt+zkjc9az5uetaEqL8yJaIQDEzmFOqlrJ1blDNCViC5pS/RaTUGsdBacCVuufyyInRDAnHI4q9yv4AalyswJ93XcYObjmWoOz9rUM2e1YiJb5NuPHOGy9SvY0NvWUKF5RVuMXNFjx75Jtq/qZNUyrwdaDZ5fugYu53hMF0rTKAtuKcQYStd6NcIyAWfi+gGjaeekatuRVIHh6QJF/9j/yZCBlV2lkHbeqsHjQtvKrsQZm1EUvYBPvPVK3vfl+2eq1P/wpsv52O1Pcs/ucV520Wrees1G2ufxhnaland4Ks9YxmG7qnZNY/Z6iovxyKFpDkzk+N3rtzbU39F6pVB3Fqy17BnN0B49+8O4dyzDP/1oN08Op7lkbTe/cd1m1qv74pzW97Tx0ddfyifu2s2/3neQx4+k+G8vOZ+eJX6R6IhHGMsUyDrevF64RJZTwfUZy1S/KnemKYjWWlzfHh+aKsGqHLIqQSrvzvp+uTqWPy6olT6v3M/xfOY52wsoncjGI2GS0TDxaIhENEwiEiIZC9PbHivdFgmTiIaIR0sn+snK5+X7xqPHHt/XEZ+zWjGVc/nM3XuBUsXj8vUruHxDD5etX1HVDshLpS0WIRYO8fiRFNMFl80DHVW9Tnkp+YElX74ObipXZDrvknG8me/Hw6WfXXuDdoXOF/3yNMlZ1bZUgaFyIJr9/yEWCbG6K8HaFQmu3NDD6u5ScFvTnWSgM35Wb3YW3IBENMRX3vVsAlv6v1X0At7/oq10J2N8+9Ej3LN7jHc+/1yu3dp/xr87xhj6ylW7+/dPsrG3jY2q2jW8wll2vrz1kSG6EhGuPU/LGCwFY+3ZNiKtvquuusru2LGj1sM4yWS2yMOHJuk7i+5x+aLPv/xiP7c8PERnIso7n38O1503oHcs5ukHjw/zibt20x4P899v2sbFa7uX9Pmn8y4ru+JsXdm5pM8rshjWWqbzLkNTeUbSDlCqylXzxKgrGeEtn7n3pGDzv151Ib/91QcpuAsLXobyO/ezAlaiHKrikWNBbOa2Oe5XCV+lryvfDxMNmyX921kJtLOrFZ9465UkIiEOTOR46OAUDx6Y4uGDU6TLwWLzQDuXre/h8g0ruGB1V12ftFprmcwVaY9FuGBtV90tjxMEloLnkyv6pPIuk9lSgLPWgoFYOEQ8Em6o6wOttaQK3pxTJI+kCkzl3OPu3xmPsHpFglVdyZnQtro7weruJD1t0ZqdKzw9nObjd+7mmdEMl61fwW9cu5m1PfOr+gbWMpUvEg+H2L66m+62+n8jROa2ZzTD0FRhUW9mHZnO894v3c/rr1rP267ZWIXRLZ7nl95UvGZzf62HchJjzP3W2qvm/J5C3eI9cGAS1wsW9UJoreXne8b51E/2MJYpcvOFq3j7czbRkaivF9VGsHcsy19/7wmOTOd567M38tor1y1Zp7KgfNLznM19mgYrNXN8VS4gHg7THg9X9YQuV/S466lRbtg+yGs/8bOTvv/N9z+Pz969l3gkVK5szQ5YcwS18vdj4VBDvWl1bOrpsWrFiVNP/cCyezTDgwenePDAJE8cTeMHlngkxEVru2cqeevrtPNkxvFwfZ8LVnfR31mbZjqzlxJI5V2m8kVS+VKAs0AkFFr235/FTjsOrGUs48wZ2o5OF8idcH1bf0eMVV2loDY7tK3qTlSlq/ZS8QPL93Ye5Us/24fjBbzuynW8/sr18w7ZBdcn7Xhs6G1jU19bw1SL5ZiHDk7ienZRa8t95id7+NajR/jsr15FXxUb3y1Go4a6+v1r0QBSeZe+RVxLN5Iq8Mkf7+a+fZNs6mvjD2/axrbVukB0sc7pb+dv33Ap//ijZ/jiz/ez80iK37/xPLqWYBpUyBgMMDxdYENf+9kPVmSegsCSKpxclavmdUHWWp4aznDbzqP8+OlRHC/g6nN655yCuKItyrtfcG7VxlIvStfjnf5EPhwynLeyk/NWdvLGq9aTK3o8djjFgwcnefDAFJ/ZvxfYW7dTNTviEVw/xMOHpzmnz2NTXzuhKjYQqTSpOXEpgSA4FuDikRDdNVxK4EzTjl0/YDhVmAluM9e4pQoMpwq4/rE3zMMhw8rOOKu6k2xf1VWeIplgVXeSlV3xhn3DMBwyvPzi1Tz33D4+d89e/vW+g9z11Ci/ce1mrth45iZmiWipynp4Mle61m5Vl6p2DSZT8Bb1mpQrety+a5jnbe6ru0DXyFSpOwt3PjmyoFDn+QHffHiIr/7iAMbAr1y9gVddurZpum/VmrWW7zx2lM/8ZA8r2mL84U3nL0lY9vyAbNHjmnP79E6iVF0tqnKZgsePnhzh+48fZd94jkQ0xLVbB7jpwlVcvLYLx7dzTkFstA6QtTKSKvDgwSkeOnjyVM3L1/dwWZ1M1azMTFjRFmPbqs5Fvfs+l1MtJQCla60SkdI023paC+5U047/v1++mA9+/eGTrm9LREOnrLYNdJzd9W2NYvYyTM/b0s+7n3/OvE/Y80WfTFFVu0ZS9AJ+untsUcWNbz8yxCd/vIe/ed0lbFtVf0WNRq3UKdSdhYWEup1D03z8zt0cmMhxzbm9vPsF5zJYo2kuze6ZkQx/9b1djGWK/NpzN/HqS9ec9QnxeNZh+6pOVnY3fqc4qT+VqtzhqTwjKQdjqn+tnLWWx4+k+N7Oo/z0mXGKfsCWwQ5uumAV157Xf9y08vlMQZT5aYSpmqmCi8Vy8ZoVC66czLWUQKVDXmUpgXgkXFchx1rLaMbhwHiOfeM59o9n+a0btvC6OaYd/8f7nss/3PF0ObQlZpYDWFHD69vqiesHfOOBQ3x9xyHCIcNbnr2BV1yyZl4/78BapnJFEtEw21Z31U0lW+aWKrg8sH9ywaEusJbf/MoDtMXCfPT1l9bl/5tGDXWaflllqbzL53+2j9sfH2agM86fvHw7zz6nr9bDampbBjv4uzdezt/f8RSfvXsvjw+l+J0btp7VtQkd8Qj7xnMMdiXq8g+QNKbZVblSt7kwfe3VXVduOu/ywyeG+f7jwxyazNMWC3PD9kFuunAVmwfmXntqPlMQZX7mnqo5XQ55x6Zq9rXHuHzDCi5bv/xTNbsS0XKXwgm2ruxk3SkC5qmWEqjcsx6XEkgXXPaXg9u+8Rz7J3IcGM8et45bf0eMQjGYc9pxf0eM//aS82sx9IYQDYd447M28MLzBvnkj3fzmbv38sMnRnjfdZvPWJEJlde1yxd97t83wab+djb0qmpXr5xFviY8eGCKw1N5Pvji83Q+tcRUqTsLp6vUWWu544kRPnfPXnJFn1+6bA1vetaGJZvOImdmreWbDw3x+Z/to78jxodu3j6vBVNPZSzjcNn6FfS0a30dWbxaVOUCa3n00DS3PX6Un+0exwss21Z1ctOFq3j+ln79XaojlamaD5anamZOmKp5+YYVbF+mqZp+UJqOOdgZZ/NgB15gz7iUQK2nkFY4ns/BifxMeDswUfo4kS3O3Kc9FmZjXzsb+9rYVP64sbedjkTktJ1Pm/ENDj+weEFpIWnXt/iBxWIxgGVxf6Ostfx09zif/skeJrJFXnLhKt7+nI3zWvS+MhU4qapd3do3luXQZH7BP5s/u2Une8cyfPbtz6qbvxcnatRKnULdWThVqDs4keOf7nyGnUMptq/q5Dev28KmfjXZqJVdR1J8+LYnmMq5vPsF5/LSi1Yt6t2hXNEjHglx2YYzXwAucqKC6zOadjg4mcMpV+XaY9W9Vm4yW+QHTwxz++PDHJku0BGPcP22QV5ywUo2qvFP3auXqZpTuSKetTMVuHpaSsAPLEenC+wbz7J/PMv+iRz7x3Mcmc7PXPMWDRvW97TNhLcN5Y9nqoo3y7Rjzw/wAosX2JnwVmEwWCyRUKmLbTJW6lbbFgsTDYeIRkIUij5Pj2Rw/YAVydiCp87mih5f/cWBmaWbfv15m3jR+YPz+p0tNdNxVbWrQw8fnMJxA5Kx+b8peGgyx/u+8gC/cvUG3nz1hiqO7uwo1FVRo4S6guvz9R0H+c8HD5OMhvm1523ixu0r6+ri71Y1nXf529uf4oEDk1y7tZ/3v2jLopaiGMs4XLWpZ17vNIoEQXlduelSVS5koLPKVTk/sDx0cIrbdh7lF/sm8APLRWu6uOnCVTx3c39dnIjL4sxM1TxQquQdnipNDaxM1bx8fQ+X1lFXzaVkrWUiW2T/eK4U4CZKUygPTuQp+uWmK8Cq7sSxqlv545ruZF1dw7dUrC0FNa9cWXODgMAeq65VVJYVKYW20sdoOEQkbErBLRw64/Hx/IChqTx7x7KEQoauxMI7k+4dy/DxO3fzxNE0F63p4n3XbWFDb9sZH1ep2rXFSlW7Lr3+1oV7nhmjPRZZ0P+tT961m9t2HuVzv/Ysetrqd9aTQl0VNUKo27F/gk/etZvhlMP12wb59eed05QvrI0ssJb/uP8QX753P6u7k3zo5m0LrqCm8i59nbG67NYk9aMWVbmxjMPtjw9z+65hRtMO3ckoN2wb5CUXrJr3osDSWOppquZSyjreTGirhLgD47mZrqEAPW1RNva1s6k8ZXJjXxvre9uaZipxYMtBzS9NifR8i09AqFwvtZSqh7FIKaS1xcIz60FGy2EtEjZEQ6ElXZ6i4PocnMhxaDJPPBJa8BucgbXc/vgwX/jpPnKuz2suW8sbn7V+Xj+3XNEjV/TKVbv2pgzqjcL1A+55ZmGdL7OOx699/hc899x+fu/F51VxdGdPoa6K6i3UBYFlPFsklXexwBd/upcv/vwA63qS/OYLN3PxuhW1HqKcxqOHpvib7z9Jtujzvms3c+MFK+f9WGtLP/vnbO5rmpMHWRqVqtzhqTyj6eWryu3YP8FtO49y//5JAguXrV/BTReu4tnn9Dbcybws3sxUzQOTPHhw6ripmhev7eayOuiqeSLXDzg0mSsHt9zM9MnR8rqMAMlo+FjVrdzufkNfe0O/aXq669fgWGBri0WIR8Mko6WpkfFyhW0mtIVMzX6WWcdjz2iG0UyRjlhkQVPwoDR75vM/3csPdo0w2Bnnvdeey9XzaCKnql19SBdc7l9g58v/eugwn717Lx97w2Vn1d9gOSjUVVE9hbogsDw5nObdX9wxc/H0X7/2Eh49NMXV5/TpJKpBTGaLfOT7T/LI4Wlu2DbIb7xw87xD2mSuyOruBINdCeKRELHw0r4TKo1ldlWu6AXEI9Wvyh1NFbj98WF+sGuYiWyR3rYYN2wvVeVWdVdnqZRc0SPv+oSMIV6HbenlePU0VTOwluFU4aSuk4cnczPXvUVChnU9yZnwVqnCDXTG6yaEzsfZXr8WDZVCW6NcOzaVK/LMcIa049GViC54evfs5Z6efU4v77l2fss95Yoe2aLHuf3trFfVbtmNZRweOzw971DnB5bf+PL99LTH+PBrL6ny6M6eQl0V1VOoG007vObj95zU5vgr73o2qbx3mkdKvfEDy1fvO8DX7zvIht42/vCl21jfc+b5/X5gmc5XOqiVXqTjkRBtsQjt8TAd8chME4FYpH66wcnSqUVVzvUDfrG3VJV76OAUxsAVG3q46cJVPGtTb1VOavzAknZcPD+gpy3Gmp4kjhswWe5+6JfPyMPGkIiWfud1DXF9Gk4VeOiEqZoGOHeJp2pO5orl9d5KUyf3T2Q5UF6yo2JlV7zUsKT3WNfJNSuSdf23snL9WmUqZDWvX2s0QWAZyzg8M5qh6C28mYrnB3zz4SG++osDALz56g28+tI1Zwy2fmCZypcqheev7tS17stooZ0v7907zv/59i7+4KbzecHWgSqP7uwp1FVRPYW6w5M5nvfXPzrp9h/9t+vIFBTqGtED+yf56O1P4vqW979oCy88b+F/cDw/wPVL1z9U3pmt/M8Khwxt0VLga4+XpqnEyhU+Vfnqn7WlKVJeEOB6peUIlrMqNzSV5/uPH+WOXSNM5V36O+K85IKV3Lh9JQOdC1v0db7yRZ+c6xEJGdb2JBnsTNB+wjqP1loKbmmdsnTeZTJfJJ33CKwlsKX1qkoVvVBDVVpawZmmalbWx1vfk5z5exVYS8iYmQ6Q+aLPgYncSV0np/PuzHa6EpGTmpZs6G1bVJOq5VL5/170Ahzfnwlttbh+rdF4fsCR6QJ7xzIYDF3JhTVTGUkV+NRP9nDv3gk29Lbxm9dt5sI13Wd8XOlaO59z+9tZ19vWdKG5Hj16eJqc4837//Kf/NejHJ7K8+m3XdUQVWiFuiqqp1CnSl1zGss4fPi2J9l1JMVLL1rFu55/7pJ1CQxsKexVQl8w0xq8VOVLREthrz1WCggxVfmWxXFhzbflYB6QK/oUPJ+CG+C4Po53rLMegDGGjnikqj+bohfwsz3j3LbzKI8eniZk4OpzernpwlVcvr6nelW5gosXWLrbomzobWNFMrqgF+AgsBQ8n1zRJ5V3mcy55Te7LBaIhkIzFT2pH7mix6OHp3nohKmaL9zaz/uv38Lvf/3hmcsNPvqGS/nnO3fzwydHZx4fj4SOq7pVAlw9d7eD0u+84/kUvQC/fC5kMLTHw3Qlo3QnIiRipTXrYmG9OTFfpTUCcxycyBMLh+ha4BTfX+wd559/vIeRtMMN2wZ5xzwaz1XWVOyMq2q3HH76zBht8+x8uX88y2999UF+9ZqNvP6q9cswurOnUFdF9RTq5rqmrpkXJG0lnh/wpZ/v5xsPHubcgXY+dPM2VndXv2ugWw4Tnn/89ReW0nUmbfEI7bEIbbHwcVU+VUDmNrvNtxsEuF7p+BbcgILrk3f9UljzA6zluOYEBkM4ZIiESh+Xe6rUgYkct+08yo+eGCHteKzsinPTBau4YftKequ06H3B9ckWPcIhw5ruJKu6T67KnQ0/sORdn3zRZzpfZCrnki16VF566m3Rajk2VfO5m/v4g/945KQ3MT/82kv4zqNH2FC+7m1lV6Kup92eqvoWCYXobiuFt8osCl0runSyjsfesQwjaaf8Gjb/vysF1+dr9x3kPx86TFs0zNufu4kXX3DmJaIqVbvNA+2s7VHVrhoW2vnyH3/0DD96YoTP/dqzGqbBkUJdFdVTqIPju19GwqZhFySVud27d5yP/eApsPC7N2zlOTX8T1250H52lQ/KQcRAIhIuh77StXyVCl8sHGqIKQ4LVWlCUKyEYL80/a80DdCj4AYUPZ/gpLAG4VBoJqxVPtZDKC64Pvc8M8ZtO4+y62iaSMhwzbl93HThKi5Z112Vk2U/sGQcD9cP6ExG2NDTRm97bNl+Zyo/t5zjMV3wmMwWybs+UPpZxSJhEpHm/B1uJB2JMC/6yF0n3V7Plxv4QTm8eT7+rGveOuIRupJRuhIRkuXqWzyiDsbLYTrn8vRomlTeo3uBzVQOTOT4+J3PsHMoxbZVnfzmdVs45wxLEc1caxePsG11Fx1L+CaVQMbx2LFvYl6hLl1w+bXP38cLzxvgd67fugyjWxqNGur0m74IoZBhoDPOzqH5d/6RxvHsc/r4+zdezl9/7wn+73ef4NWXruHtz91Uk0pCOGQIh8LM9ZpUqUjlHI/pnIsXBDNBJqA01a2t3LilvXwNyOzQVw+BpqIS1ioVSzcIKBR9Cl7p2h3HLU2JrIS1yltRlbBWCWqxcIi2aHWvcVsqe0Yz3Pb4MHc9OUK26LN2RZJ3PHcTN2xfWbV3MytVuZAxrFmRYFV3siYnPJFwiM5waY2rleVLZtxZQW8y5zKVK+IUXAylKa/quLn8QqbUkfLESl09/AhmV9+Kvj/zNyESMnQmoqzqjtMej8xc+6bfm9rpboty5YYeRtOlZippx6U7Mb+p3Rt62/j/XnMxP3pyhM/evZcPfO1BXnXpGt589YZTVv7CIUNfe5xsOXyc29/Oup62lr7ecSk55Tfg5uP7jw9T9AJedcmaKo5IKqpWqTPGrAe+CKyidI75KWvt3xtjeoGvAZuAfcAbrLWTp3uueqvUVcxefFyaj+sHfO6evXzrkSOcv7KTP7j5/Hm1Wq4X/uyQ5AcEHF/lS0bK1/LFI7TFw8TD4fJ1fEvXTntmDIEtTYMMApzjpkGWKmylsGbA2JlpeWFjiFQCW7hUWavnKV7zkSt6/OTpUlXu6ZEM0bDheVv6uemCVVy4pqsqYfRYVc6nM1G6Vq6nPdYQ0x2L5VCfdTwmc0Wm8i6uHyjoLZNENETBC3jfl++v6eUG86q+RSMkYqq+1Ts/sByZzrN3NIsFuhfQTCVdcPniz/Zz286j9LbHePcLzuW5m/tO+3dzpmqXiLBtlap2S+FAubPtijNcM+sHlnd9cQdruhP85WsuXqbRLY1GrdRVM9StBlZbax8wxnQC9wO/BPwaMGGt/StjzIeAHmvtH57uuRTqpJbufmaMf7jjaSIhw/99zUVcsn7FSZ3gGk2lyldp4DK7ymcpdS5sj4dpj5Wu50vESl3eKlU+ayldrzbTYMRS9EpBLV9uMFJwSydgWDOzsG6pi1ypS1wzhbXTsdby9EiG7+88yo+fHiPv+mzsbeMlF67iRecPVO2C/kpVzhhmrpVrhuYBhfLvVrrgMZUvVfSCoNSKRUsrLL1ENFTuflnqAFntv3muX3rjp+iXqgGVa4s7E1G6k1E6E6q+NYNSM5U8BydyxMIhOhOReb+p9cTRFJ+4czd7xrJcubGH37h28xnX58w6pXU2twx2sHZFUlW7s7Dz8DSZeXS+vOeZMf7qe0/wxy/bznPOPfPC8vWkUUNd1d6ysNYeAY6UP08bY3YBa4FXA9eV7/YF4E7gtKFOpJaev6Wfc/vb+eZDh+ntiPOWz9x7/LvW0cZrkmOMmWnFPRe/XFkbdRyO+IWZKl/pscw0GKlcr1Z5zmPXrIXoiEdb+qQr63jc+dQot+08yt6xLPFIiBds7eemC1dx/srOqlTlAmtJFzw8P6A9Hmb7qk56O+INUZWbr8oJ/Yq2GOsphWbHK3UtzRRcJnKl65398lzdSEhLK5yNUoOhpf/7Vqm+FcuNokKm9PekLRqmrzOm6luTi0fCbBnsYM2KBPvGshxNFebdTGXbqi7+9g2X8a1HhvjKvQd4/788wBuuWscvX7HulH/rKlNxd49mGEkX2Laqa0kbQrWSVMElMY//k7c+MsRgZ5yrN/Uuw6gElqlRijFmE/Bj4CLggLV2xazvTVpre073eFXqpB50JMK87bO/OOn6kr/65Yv57N176W2P09seLX+M0dsWo6c92nQnJNZanRyfgrWWXUfT3LbzKHc/M0bRCzh3oJ2bL1zFtVsHqnYS4Xg+acclhGFVd4LVK5J0xuf/znezqSytUOq46TKVd0nnS0srBFhioVLHzXq7trRZnan61pGIkFT1raVN512eGSk1U+lMROb9ujmecfj03Xu555kx1q5I8r7rNnPpuhWnfUzG8Sioarconh9w9zw6X+4ezfCBrz3Erz9vE6+5fN0yjW7pqFJ36o13AP8BfMBam5rvC6gx5j3AewA2bNhQvQGKLMDsQFf5OhmL8NhQislsES84+U2SjniEnvYYfe0xetpmhb7KvwYLfzoJPlkq7/KjJ0e47fFhDk7kSEbDXH/+IDdduIotgx1V2WZgLZmChxsEJKNhtq3soq8jrjXgKDWzaiu/69/XUTr5CMpLK+RmLa0wkSvOPCYWDpUXk9bxW6zZ1bfKlO5K9a23I0p3so1kNEI8qsqpHK87GeWKDT2MZRyeGcmQLnjzWiezryPOh27exv37J/nnH+/mT/7rMa47b4Bff/45p1wnsSNeehPhmRFV7RbK8Y5dqnE6tz48RDwS4sUXrKr6mOSYqv4WG2OilALdV6y13yjfPGyMWW2tPVK+7m5krsdaaz8FfApKlbpqjnOx4pEQE1lnZr2bynQ2nRQ0p1N1guvviPG5tz9rZurbRLbIZLbIRLbIRK78sfzv8FR+XuGvFPRix4e/8u06aa+NY9cWla6ndFyf+/ZNctvOYX66ewwvsJy/spPfuX4Lz98yQDJWnZBe9ALSTqkr5KruUgfLrgVcj9KqQiEz0xhooLMU9CpLK+Rdn6mcy1S2yHS54yaUpojFI/qbPhfXD3C80hIiFaGQoSsRZbArruqbLJgxhoHOBL3tcY5OF9gzliEILCvaYme8RvbKjT38/958Of9+/yH+/f5D3Ldvgrc9ZxM3X7hqzt+/cMjQ3xEn43j8Yu8EW1d2sKZbVbszKbg+Zzohn8oVueupUV58wUo1pllm1WyUYihdMzdhrf3ArNv/Bhif1Sil11r7B6d7rnqdful4fnldrICs45F1PNKOh+MGVJquVwJfLLy0XQVl+S1VJ7j5hL+JXPG04e/4Kl/p8772WUFQ4W9JzfWz/5vXXcKHv/ckT42kedH5g9x0wSo2nWH9pMWyttTB0vEC2mJh1ve00d+pqlw1zF5aYSrnMpVzKXjH1tADTjqpMZSaAZ3IzHHfUzHAiS/Hpwrqc956inPRuW5e6BsAlf3wSh1pwJSqb13JKCvaoqq+SVUUvYCDEzkOTOSIhkPzfvPq8GSeT/54Nw8dnGLLYAfvv27LaWdMVDpkdiejnL+qc0GLpLeagxM59o5lT1kFBfjafQf48r0H+PivXMH63rZlHN3SadTpl9UMdc8HfgI8SmlJA4A/Bu4Fvg5sAA4Ar7fWTpzuueo11J1KENjyO5ilX4qM45Eph74TS9eVyl40HNK7mQ1gOTvBzRX+xnOzguACw19vOfQtNvydWKmq586fs7t7zjRj8MpflxszVNa4Ou628n2L5WUgKl+/7ZqNfPDfHj6pSvvxt1xB0QuqNnXW9QPSBRcLrOxKsKY7SVdSVbnlVllawQuO/32f69XzVC+pc4W+Uz3JiTdVXqdPfG5r535eO+d9597+3Pc9ecwhY+god55Mqvomyyhf9Nk7lmU4VSAZDc9rqqS1lp88PcZn7t7DdN7lZRet5q3XbDztYzMFD8cvXWunqt3cHj8yTTp/6s6Xnh/wzi/sYGNfG//71Rct8+iWTqOGump2v7ybU753yA3V2m49CIUMyVi4PP0qyuCs7/mBxfH88gnx8YGvsv5S6Y3Q0kLKkXIbebXnrg/V6gQ3l5AxdCdLjQTOOU0FaD7h79Gp6UWFv8rna1ckKHgB7/j8fWfs/DmzKPAJQWl2kJorWFUCmDtHqJq57bjHVu4/K6yVvy76Z/8zMkC0vITD25+zac7rKTsTUTIF76y3NZu1lqzj4/geiUiErYOd9HXGGuaay2YUi4RUFRWpkWQszAVruljbk2T3aIaxjENHuZvlqRhjuPa8Aa7c2MOXf76f7zx2hHt2j/HO55/LtVv753xjrCMRIRmEeXokzWjaUdVuDqm8R+w0M87u2T3ORK7Ib1+/ZRlHJRX6bV1m4ZkL+E/+XuUk1fECCkWfTLEU+FKFcnvuspApXbtXmdKpd+1b22LCXyUAzjf8/fPbruQvvvX4TLA5NJnnfV++n//96gv5w/949FiFywvmDI4L3yeO/Y6XF0SvfB4rV7Y74lFi7ZU3P0q3VxZPP/6xIWKV22a+Ln8vZI7dFqlUzUvPGQ4d+7/VlYzMeT3lUr6R6/oBqYILwGBngrUrulSVExEp605GuXz9CsYzDs+MZhnPOnQloqe95rU9HuG9L9zMDdtX8k93PsNHvv8kP9g1zG9cu5m1PcmT7h8OGfrbE2QKHvftm2TrQAeDXXFdOkOpKFFwfdpPE3RvfXiINd0Jrth42qb2UiUKdXWkMg2zPQ6ccG5emcpZLK/HlC1X+KbybnkKTknYHDtJjYQU+OSYswl/a1ck56xU9bbHuWRt96xAVA5Qs8LXsTBWbiQ063uzFzSfHczqbWpX0Qv4xFuvPOl6yqJ3dhVBay3ZYmkx7UQ0xJbBDvo74qd9B1pEpFUZY+jvTNDTHmd4usDucjOV7mTstK8bWwY7+MjrLuV7O4/ypZ/t47e++gCvvXIdr79y3ZyzIDoSETw/4KmRNHvGMqzraWNlV6JqDbAageP5p+18+dRwmieH07znBedqdlmNKNQ1iNnTf/pm3W5taaqZ45XWAcqXq3uZgkfa8cGWJnTO7tBZOYEWmctc4a8zMXelqqctygduPK9WQ102BTcgEQ3xlXc9e0mup6xcKxdYGOyKs311J12JqK7hEBGZh3DIsKYnSX9nnMNTOfaP54iETt9MJRwyvPzi1Tz33D4+d89evnbfQX781CjvvXYzV85RWYqEQ/S1x/EDy8GJHPvGs/S1x1jf20Z3Mtpyb5oX3OC0jZ9ufXiIZDTMDdsHT3MvqaZlWXz8bDVao5R6EQSzAp/nk3N80uXr9wquf1wnt2jo2BS0equSSO0tVefPVmatJVf0yXs+8UiI9T1tDHSqKicicrbyRZ9941mOTBdom2czlYcPTfGJO3dzeCrP87b08+7nnzOzruVcZs+sSEbDbOhtrS7Ehydz7B7J0tN+8vVDE9ki7/zCfbzs4tW8+wXn1mB0S6tRG6Uo1LWoyiKxjufjuJWwV2rcUmnYAqWpDpGQWZYOndba4zqxzf7aYmfdfuxrC3DC15XHMevrueYMGI616rYn3H7ss1P2rCvf49h9ZrcvDxlDyBjCxhAKlb4Oh0z59sZcwHs5O382E88PSDsegbX0tcdY11N6l1dVORGRpZUquOweyTCVK9IRj57xTTPXD/jGg4f5+n0HCYcMb3n2Bl5xyZoznuvMXi90zYokq7oTdCaiS7gn9efxI9Okct6cgfkr9+7na/cd5JNvvZI1K06+VrHRNGqo0/TLFhU+rkMnrJz1PW9mUdljHTrTjkfGcU/bBMPMSjXzCUknruFUCTsGQzhU+jxEqZtoyBhMORyFQqXbTQjCJlR+3LEgFTLlx3AsUGFKAaxyP1Mer6H8vTlur+SukDHl2yrjK/GtxQ/K/6wlCEpt9INyK32n3DRkpmOjF+CWv8cJx2D2sSjtf3k/TgiD4RpeJ7mcnT8bXaUqV/B8IqEQm/raGOxKqConIlJFXYkol61fwWTO5enhNGMZh+7kqZupRMMh3njVel64dYB//vFuPnP3Xn74xAh//LJtbF3ZecolfGKREH2ROIG1DKccDk3m6W6LsqG3jZ6201/f16gyeW/OqqTrB3zvsaNctamnKQJdI1Ook5NEytfctc8xC8GdFfgCa48LOjNhKMTct5sTPj/xPg1WvQphWMw5urWzg2BpQd8gKIVELwjwZ7Xon72+WqHc7r+SqysLHh+3ILItBdpwJfyWg+BM5bAJX2jqiecHZBwPL7D0dsQ4b1UnK1SVExFZNsYYettjXLWpl5FUgd2jGbzAsuI0zVRWdSf401dcwM/2jPPT3WMkYxHe8pl7z7iET+UadChNAX308BTRUIgNvc31Rp4fWPJuQM8c+/OTp0eZyru88pI1NRiZzKZQJwtSmYbJqaedyxkYY4iEzaz/fAv7oz9TEZwVDn3/WLXQ8WatATdrrTjXD/BtaZrq7CB43LRRzKxQ2BzTRpdDruiRd30iITPzYt7KXdJERGotHDKsXlFupjKZZ994lkjI0JWYu8mJMYbnbu7nJRes5G2f+8VJS/h85Z3PPu1slcrsJ88P2DeeY/dolsGuOOtWtDX88jSO5wP2pH2w1nLLw0Os70ly2foVNRmbHKNQJ9JgQiFDbJGVn9lVwsrU0Uq10LcWz7PHL+7tB3i+peD5eOUqYaXaWrked/Z02pntnLTh2dNgj1VoK7dVdqfSBrky5fX42+orVPqBJV1w8YKAnrYYWwY7WNGk025ERBpVNBxiU387q7oT7BvPMjSZJxmL0HGqZiqGOZfwGc043PLQENdvGzxtQ5VIOERPWwxrLamcx4PpCZLRyExjldOtq1evnFOE2V1H0+wezfKb122uq9fnVqVQJ9JCTq4SLsxMECwHuqBc+QsqTW2C0lWTgS0FyKDcxAbLcdce+gH4NsCWbw8o3RaU72ODWfcvPyYoP9/MtFNTCpZzhckTbzvu+k1bDpXzDJiV6y0rtzmeP1OVW9ebZGVXgrbTLMYqIiK1l4iG2baqi7UrkuwZzTKWKczZTCVkzJxL+OSLPl/8+X6+fO9+rtjQw43bV3L1Ob2nDGnGGDoSETqI4Hg+Tw6neWokzdoVSVZ1J08dKutQvuhjODm03fLwEO3xMC86X8sY1IPG+Y0SkZoLh2p7XZ61x7qczg6UcOaAWXnMiQEzsKVK5VwBMyhf9zg7YCajYTYPdjTtxfAiIs2sMxHlknXdM81UxrMOXYljzVSKXsAn3nrlnEv4/PNbr+SOJ0a4Y9cwf/W9J+hKRLju/EFu3L5yZl3XucQjYeKRMH5gOTJV4OBEnhXlxiqNMMMjVXCJntAkZTTt8LPdY7z6srVNc+1go9OSBiIiIiLScoLAMpIq8MxYBt+3dJebqZxpCR8/sDx8cIrbdw3z8z3jeIFly0AHN16wkhduHaAjceaaSa7okSv6RMMhNvbV97qlO/ZNYDDHdb/8wk/38Y0HD/Gpt13Fyq5EDUe39LSkgYiIiIhIgwiFDKtWJOnrjDM0mWdvuZmKtdHTNkUJhwxXbOzhio09pPIudz01yu27hvnkXbv57N17eM65/bz4gpVcsq57Zvr+idpiEdpiEVw/YM9oht2jGQY7E6xdkayrxipBYMk6Pj1tx9bhczyf23Ye5dnn9DVdoGtkCnUiIiIi0rKi4RAb+9tZ2Z1g/3iWoak8iUhkXhW3rmSUV166hldeuobdoxl+8Pgwdz41yo+fHmWgM84N2wa5YftKVp0i/ETDIXrb41hrmcoVGU4V6IiH2dDbRm9H7RurOF7AiZ0v73xylLTj8cpLtYxBPVGoExEREZGWl4iGOX9VF2t72tgzmmE04xAPh2iPR+Z13dvmgQ42v7CDdzzvHO7dO87tjw/ztfsO8q/3HeSSdd28ePtKnrO5j3jk5GmWxhg6E1E6gYLr8/iRNOFQptxYJUF7jRqrlJYzOMZay7ceGWJTXxsXremqyZiqyQ8sGWfuhdbrnUKdiIiIiEhZRzzCJetWMJ1zGU4XGEkV8AJLrBzwTjWlsiIWCfGCrQO8YOsAI+kCP3pihNt3DfPR25+i/a4w1543wI3bV7J1sGPOaZaJaJhEtNRYZWg6z4GJLD1tMTb0tbMiGSW0jI1V8kX/uDE+eniafeM5fuf6LXUzRfRs+YEl63i4QUAkZFi9IsGq7mSth7VgCnUiIiIiIifobovS3RZl80AHqbzLSLrAcMohsJZ4JExbLHzGgDfYmeCNz9rA669az87D09y+a5g7nhjhu48dZWNvGzdesJIXnT9IdzJ60mPDIcOKZAwoNVZ5+NAU8UiI9T1tDHbF56z4LbW04xENHata3frIEJ2JCNeeN1D1bVdTYC05x8fxfcIhw8quBIOdcboSyxual5K6X4qIiIiIzIPnB6QKHkenSwuSWwuJcsCbb+Uq63j85OkxfrBrmCeH04RDhqs39XLj9pVcubHntFM9XT8gVXABWNWdYHV3kq5E9Rqr3L9vEihVH4+mCrznizt43ZXr+NXnbKrK9qopsJZc0cfxfELGMNAZZ1VXgq5ktO6XlahQ90sRERERkbMUCYfobY/R2x7D9QOm8y5HpwuMZxwskIyGSUZPH/Da4xFuvmgVN1+0igMTOX6wa5gfPTHCz/aM09MW5fptK7lx+yDretpOemw0HKKvPU5gLePpIkemCnTGI2zoa6O3PUZkCRurWGvJFj1WlKuI337kCMbAyy5evWTbqDZbDnKF8rWBg51xVnZ10J2MLumxqgcKdSIiIiIiCxQNh+jviNPfEafoBUzlihxNFRjPFjFAWzRCMnb6KZIbetv49eedw69es5Ed+yf5wa5h/vPBQ/zHA4fYvrqLF28f5Hlb+mmLHX/KHjKGrnLYKjVWSREOGdb1JFnZlTjp/ovheAHWlpq45Is+tz9+lOdt6ae/I37Wz11N1lryrk+u6GMM9LXH2LKyFORq3U20mhTqRERERETOQiwSYrArwWBXAsfzmc65HJ7KM5ZxMAbaY5HTLi4eCYe45tw+rjm3j8lskR89WWqu8g8/fIZP/WQPz9tcWvvugtVdJ1UBZzdWOTSRZ99Yjt6OGBt62ug+i8YqjltazgDgR0+OkC36vPKS+l3GIF/0ybkeAD1tUc7pb2dFW6whO1kuhkKdiIiIiMgSiUfCDHaFGexKUHB9pnJFDk8VGM86wJkDXk97jF++Yh2vuXwtTx5Nc/uuYX7y9Bh3PDHC6u4EL96+kuu3DdJ3QsUsHDKsaIuVphw6Pg8dnCIRDbGht43+zoU3VsmXA1JgLbc+MsSWwQ62repc4NGoroLrkyt6WKA7GWV7Xycr2mPL0kSm3qhRioiIiIhIlRVcn4lMkaHpPBnHwwAd8ei8KkkF1+enu8e4/fFhHhtKETJwxYYebty+kqvP6T3ltELXD0jPbqyyIklX4uROm3N5ejjNaNrh6ZEMf3bLTn7vxvO4ftvgvPe3WhzPJ+N4YKEjGWFtd5Ke9thpg3KzUKMUEREREZEaSkTDrOlJsqYnSa7oMZEtMjSZZzzjEgoZOuKRU4azRDTM9dtWcv22lQxN5bnjiRHu2DXMX33vCToTEV50/iA3bl/JOf3txz0uGg7RW26sMpouMjSVpzMZZUPPmRurpPKlRbhvfXiIFW1RXrC1f0mPx0IUvYBs0SOwlvZYmPMGO+lpj53xmsVWolAnIiIiIrKM2mIR2mIR1vW0kXU8xjMOQ9MFUgWXcMjQHjt1wFuzIsnbrtnIr1y9gYcOTnH7rmG+8+gRbnl4iC0DHdx4wUpeuHWAjsSx0/yQMeW18KIzjVUiIcO6njZWdiVOCkelrpEeGcdjx/5J3vys9cveZMT1A7KOh28tyWiYc/rb6euILUkTmGakoyIiIiIiUiPt8Qjt8Qjre9vIFn3G0w5D0/lSwDOlCt5cFbVwyHDlxh6u3NjDdN7lrqdG+cGuYT55124+e/cennNuPzduH+TS9SuOWyS90ljF8wMOTOTYN56lrz3G+t5SYxVjDI4XEFjLtx89QiRkeOlFy7OMgecHpB2PILDEoyE29rXR2xGnfQHrALYqhToRERERkRoz5QDXUV53Ll2u4B2eLOAFLpFQiI54ZM6FsruTUV516Rpedekado9m+MHjw9z51Cg/fnqUgc44N2wb5IbtK1nVlZh5TCQcoqfcWCXj+Dx4YJJkNMKG3jZi0RD5os8du0Z4/tZ+etpjVdtvP7BkHA8vCIhFQqzvTdLfEacjXr1F1ZuRGqWIiIiIiNSpILCkHY/RdIGj0wW8wBINhWg/RcCrKHoB9+4d5/bHh3no4BQWuGRdNy/evpLnbO6bs0Nk0QtIO6XGKrfvPMpXfnGQj77+Us5bubRdL2cHuUgoxOruBANdcToV5E5LjVJERERERBpQKFS6Hq47GeXc/g7SBY/hdIGRVCngxcKlgBc6IQzFIiFesHWAF2wdYCRd4IdPjPCDXcN89PanaL8rzLXnDXDj9pVsHeyYCVKxSIi+SBwvCLjjiVG2repcskDnB6Xr9Ip+QCRkWNWdYKAjQWcisui19OQYVepERERERBqMH1hSeZeRdIHhlENgLfFwmLZ4+KSAVxFYy2OHp/nBrmHu2T1O0QvY0NvGi7ev5LrzB1jVnSAWKU293D+RI513OX9V16LHGJTXzCt4PpGwYbAzzsquBJ2J6GmrjDK301XqFOpERERERBqY5wekCh5HpwuMZgpYC4lImLbTNBjJOh4/eXqMH+wa5snhNFdsWMEfvnQbH/z6wxyazLOuJ8kn3nIFiWiYghvMeyzWWrJFH8fzMQYGOxOs7ErQnVSQO1sKdSIiIiIiLcD1A1J5lyPTBcYzDhZIRsMko6cOePvHswx2Jfj9rz/Eocn8zO3repJ85V3PJpX3TrtNay151yfv+gAzFbnuZPS0a+HJwuiaOhERERGRFhANh+jriNPXEafoBUznXY5M5xnPFjHMHfA29rXTkQgfF+gADk3mCU5R/zkxyPW2x9g82EF3Mrrsa9qJQp2IiIiISFOKRUIMdMYZ6IzjeD7TOZehqXLAM9Aei5CIlrpghoxhXU/ypErdiTMm80WfnOthLfS2Rzmnv50VbTFiEQW5WlKoExERERFpcvFImMGuMINdCQquz3SuyKGpAuNZB4CQgU+89Ure9+X7j11T99YrKXoBBdcnWyxNwexKRtne10l3W2wmEErtKdSJiIiIiLSQRDRMojvJyu4kBddnIlNkaDqPtZYvvONqjAFjYCJTZDzt0JGIcP7KTnraFeTqlUKdiIiIiEiLSkTDrOlJsqYnSa7oMZEtcmSqNAVzzYokF6yJk4wpyNU7hToREREREaEtFqEtFmFdT1uthyILpCsaRUREREREGphCnYiIiIiISANTqBMREREREWlgCnUiIiIiIiINTKFORERERESkgSnUiYiIiIiINDCFOhERERERkQamUCciIiIiItLAFOpEREREREQaWNVCnTHmc8aYEWPMY7Nu+3NjzGFjzEPlfy+r1vZFRERERERaQTUrdZ8Hbp7j9o9Zay8r//tOFbcvIiIiIiLS9KoW6qy1PwYmqvX8IiIiIiIiUptr6n7LGPNIeXpmTw22LyIiIiIi0jSWO9R9AtgMXAYcAT56qjsaY95jjNlhjNkxOjq6TMMTERERERFpLMsa6qy1w9Za31obAJ8Grj7NfT9lrb3KWnvVwMDA8g1SRERERESkgSxrqDPGrJ715WuAx051XxERERERETmzSLWe2BjzVeA6oN8Ycwj4M+A6Y8xlgAX2Ae+t1vZFRERERERaQdVCnbX2zXPc/NlqbU9ERERERKQVGWttrcdwRsaYUWB/rccxh35grNaDqJFW3ndo7f1v5X2H1t5/7XvrauX9b+V9h9bef+1766rX/d9orZ2z2UhDhLp6ZYzZYa29qtbjqIVW3ndo7f1v5X2H1t5/7Xtr7ju09v638r5Da++/9r019x0ac/9rsU6diIiIiIiILBGFOhERERERkQamUHd2PlXrAdRQK+87tPb+t/K+Q2vvv/a9dbXy/rfyvkNr77/2vXU13P7rmjoREREREZEGpkqdiIiIiIhIA2upUGeMWW+M+ZExZpcxZqcx5nfLt/caY243xjxd/thTvr2vfP+MMeYfT3iuK40xjxpjnjHG/IMxxpxim39pjDlojMmccPvvG2MeN8Y8Yoy5wxizsVr7Xd7eUu77nPs0xzbnPEbGmGuNMQ8YYzxjzOuqtc8njKWe9r+Vf/a/Ub79IWPM3caYC6q13+Xt1c2+z/r+64wx1hhT9a5a9bT/xphfM8aMln/2Dxlj3lWt/S5vr272vfy9N5T/3+80xvxLNfb5hLHUzf4bYz426+f+lDFmqkq7XRlHPe37hvJzP2hKf/NfVq39Lm+vnvZ9oym9xj1ijLnTGLOuWvs9ayy12P9TnefFjTFfKx+Xe40xm5Z4d08cRz3te6uc59XFOf4Ma23L/ANWA1eUP+8EngIuAD4MfKh8+4eAvy5/3g48H/gN4B9PeK5fAM8BDPBd4KWn2OY15e1mTrj9RUBb+fP3AV9roH2fc5/m2OacxwjYBFwCfBF4XQP+7M92/1v5Z9816z6vAr7XKvs+aww/Bn4OXNViv/e/duJzttC+bwUeBHrKXw+20v6fcJ/fBj7XKvtO6bqc95U/vwDY10L7/m/A28ufXw98qUl/7091nvebwCfLn7+J5nytP9W+b6I1zvPq4hx/ZrvLsZF6/Qd8E3gx8CSwetYvxZMn3O/XZv/Ay/d5YtbXbwb++QzbOuUvBnA5cE8j7PsC9umMxwj4/HL9Z6/H/W/ln/2s27/bSvsO/B3wCuBOliHU1dP+n+45W2DfPwy8q1b7Xuv9P+F+PwVe3Cr7Dvwz8Iflz58D/LSF9n0nsK78uQFSy7nvy7H/p7sfcBvwnPLnEUoLWZtW2PdZt3+eJj3Pm+/9WMbzvJaafjlbuQx+OXAvsNJaewSg/HHwDA9fCxya9fWh8m2L9U5K724ti7Pc9/la6mO0ZOps/1vuZ2+Meb8xZjelE93fWaJtnlGt990Yczmw3lr7rSXa1oLUev/LXluejvLvxpj1S7TNM6qDfT8POM8Yc48x5ufGmJuXaJvzUgf7XxnHRuAc4IdLtM0zqoN9/3PgrcaYQ8B3KFUql0Ud7PvDwGvLn78G6DTG9C3Rds9omfb/dNYCB8vb9IBpYFn2vw72vabqbP+X7TyvJUOdMaYD+A/gA9ba1GKeYo7b7CLH8lbgKuBvFvP4RWzvbPd93pua47ZFHaOlVE/736o/e2vtP1lrNwN/CPxJFcdxbEA13ndjTAj4GPDBKm77lGq9/+WPtwKbrLWXAD8AvlDFcRwbUH3se4TSFMzrKFUyPmOMWVHFsRwbVH3sf8WbgH+31vpVHMeMOtn3NwOft9auA14GfKn896Cq6mTf/xvwQmPMg8ALgcOAV8WxHBvU8u3/aYcxx21VPw+qk32vmXra/+U+z2u5UGeMiVL6YX/FWvuN8s3DxpjV5e+vBkbO8DSHgNkX/K4DhowxYXPsYvD/PY+x3Aj8D+BV1lpnofuyUEu076d67hP3fc5jtPjRn7162n/97AH4V+CXFrPNBY6vHva9E7gIuNMYs4/SPPxbzPI0S6mH/cdaOz7rd/3TwJWL2eYCx1cX+17+3jetta61di+l6UBbF7PdBY6xXva/4k3AVxezvUWMr172/Z3A1wGstT8DEkD/Yra7gPHVxb5ba4estb9srb2c0usd1trpRe3Uwsa4nPt/OoeA9eXHRYBuYGIx213A+Opl32uinvZ/uc/zoMVCnTHGAJ8Fdllr/3bWt24B3l7+/O2U5uGeUrl8mzbGXFN+zl+l9ILtW2svK//70zOM5XJKc+1fZa1d1C/YQizVvp/Kift+qmN0FrtwVupp/1v5Z2+MmX0i+3Lg6cVsc77qZd+ttdPW2n5r7SZr7SZKjVJeZa3dsdh9m4962f/yWFbPeuirgF2L2eZ81dO+A/9F6cJ5jDH9lKZj7lnMduerzvYfY8z5QA/ws8VsbyHqbN8PADeUx7WdUqgbXcx256Oe9t0Y02+OVSX/CPjcYra5EMu9/2e4++xtvg74obW2apW6Otv3ZVdP+7/c53kz7P+/vfsJsSmKAzj+/YWGkBK2JkWDwoK9DQtZWIySslWKjexZKLOaoiHKgiysbOwUsSGlNOPfQjQWSkgWY2Jh5mdxjnpN87KQN++630/dXu/ee947v3feq/u77/xZgMGLC7VRZrlJ4BkwXrd9lD7O9ygXmPeA1R1l3lHurHyj3HXZUvfvBF4Ab4Exugx+pYwbeg/M1sczdf9d4GNHPW43KPZ5Y5rnPef9jIBdtdw08AV42bC2/9v429z25ymD58eB+8DWtsQ+55wH9Gb2y76JHzhX236itv1Qi2IPYBR4BTwHDrWp7euxM8DIv46732KnzL73sH7vx4G9LYp9uL7fa+AqMPCftn2367yllBlA31BmCN3Qotjbcp3XF9f4v7ffPzxJkiRJUgO1qvulJEmSJP1vTOokSZIkqcFM6iRJkiSpwUzqJEmSJKnBTOokSZIkqcFM6iRJrRURM3Ux2ZcRMRERJzvW1upWZjAiDveqjpIk/YlJnSSpzb5nWUx2K7CHsq7R6T+UGQRM6iRJfcN16iRJrRUR3zJzRcfzDcATYA2wHrgBLK+Hj2fmo4h4DGwGJoHrwAVgBNgNDAAXM/NKz4KQJLWeSZ0kqbXmJnV131dgCJgCZjPzR0RsBG5m5s6I2A2cysz99fyjwLrMPBsRA8BD4GBmTvYyFklSey1e6ApIktRnoj4uAcYiYgcwA2zqcv5eYFtEDNfnq4CNlH/yJEn650zqJEmqavfLGeATZWzdR2A7ZQz6j27FgBOZeacnlZQkaQ4nSpEkCYiItcBlYCzL2IRVwIfMnAWOAIvqqVPAyo6id4BjEbGkvs6miFiOJEk94j91kqQ2WxYR45Sulj8pE6OM1mOXgFsRcRC4D0zX/c+AnxExAVwDzlNmxHwaEQF8Bg70pvqSJDlRiiRJkiQ1mt0vJUmSJKnBTOokSZIkqcFM6iRJkiSpwUzqJEmSJKnBTOokSZIkqcFM6iRJkiSpwUzqJEmSJKnBTOokSZIkqcF+AReSO70D6HjlAAAAAElFTkSuQmCC\n",
      "text/plain": [
       "<Figure size 1080x576 with 1 Axes>"
      ]
     },
     "metadata": {
      "needs_background": "light"
     },
     "output_type": "display_data"
    }
   ],
   "source": [
    "#set width and height of chart\n",
    "plt.figure(figsize = (15,8))\n",
    "\n",
    "#Plot date against Revenue to observe the trend of revenue generated per month\n",
    "sns.lineplot(df['Date'], df['Revenue'], marker='o').set(title='Revenue generated per month')"
   ]
  },
  {
   "cell_type": "markdown",
   "id": "f4308e45",
   "metadata": {},
   "source": [
    "    - Now to building customer segmentation model, RFM model will be used for the segmenting.\n",
    "    - RFM means Recency, Frequency & Monetary\n",
    "    RFM:\n",
    "        - Recency : how long it has been since a customer made a purchase.\n",
    "        - Frequency : how often a customer make purchases\n",
    "        - Monetary value : the total sum of purchases a customer has made.\n",
    "       NB: these facts seems to align with the generated hyothesis."
   ]
  },
  {
   "cell_type": "markdown",
   "id": "5e498120",
   "metadata": {},
   "source": [
    "    - Lets investigate the last date so we could get the recency of the transactiion"
   ]
  },
  {
   "cell_type": "code",
   "execution_count": 22,
   "id": "29a32a19",
   "metadata": {},
   "outputs": [
    {
     "data": {
      "text/plain": [
       "Timestamp('2011-12-09 12:49:00')"
      ]
     },
     "execution_count": 22,
     "metadata": {},
     "output_type": "execute_result"
    }
   ],
   "source": [
    "#maximum invoice month\n",
    "df.loc[df.groupby('CustomerID').InvoiceDate.idxmax(),:]['InvoiceDate'].max()"
   ]
  },
  {
   "cell_type": "markdown",
   "id": "285a8d12",
   "metadata": {},
   "source": [
    "### RFM MODELLING"
   ]
  },
  {
   "cell_type": "code",
   "execution_count": 23,
   "id": "a8c51dc2",
   "metadata": {},
   "outputs": [],
   "source": [
    "#set date to last date in the data to calculate for how recent a transaction is\n",
    "Now = dt.date(2011,12,9) \n",
    "df['Date'] = pd.DatetimeIndex(df.InvoiceDate).date"
   ]
  },
  {
   "cell_type": "markdown",
   "id": "4a1a7779",
   "metadata": {},
   "source": [
    "### Recency"
   ]
  },
  {
   "cell_type": "code",
   "execution_count": 25,
   "id": "af86e1c4",
   "metadata": {},
   "outputs": [],
   "source": [
    "#group customers by date & get the maximum date value to get the recent dat\n",
    "recency = df.groupby(['CustomerID'],as_index=False)['Date'].max()"
   ]
  },
  {
   "cell_type": "code",
   "execution_count": 26,
   "id": "c1c02b72",
   "metadata": {},
   "outputs": [
    {
     "data": {
      "text/html": [
       "<div>\n",
       "<style scoped>\n",
       "    .dataframe tbody tr th:only-of-type {\n",
       "        vertical-align: middle;\n",
       "    }\n",
       "\n",
       "    .dataframe tbody tr th {\n",
       "        vertical-align: top;\n",
       "    }\n",
       "\n",
       "    .dataframe thead th {\n",
       "        text-align: right;\n",
       "    }\n",
       "</style>\n",
       "<table border=\"1\" class=\"dataframe\">\n",
       "  <thead>\n",
       "    <tr style=\"text-align: right;\">\n",
       "      <th></th>\n",
       "      <th>CustomerID</th>\n",
       "      <th>Date</th>\n",
       "    </tr>\n",
       "  </thead>\n",
       "  <tbody>\n",
       "    <tr>\n",
       "      <th>0</th>\n",
       "      <td>12346.0</td>\n",
       "      <td>2011-01-18</td>\n",
       "    </tr>\n",
       "    <tr>\n",
       "      <th>1</th>\n",
       "      <td>12747.0</td>\n",
       "      <td>2011-12-07</td>\n",
       "    </tr>\n",
       "    <tr>\n",
       "      <th>2</th>\n",
       "      <td>12748.0</td>\n",
       "      <td>2011-12-09</td>\n",
       "    </tr>\n",
       "    <tr>\n",
       "      <th>3</th>\n",
       "      <td>12749.0</td>\n",
       "      <td>2011-12-06</td>\n",
       "    </tr>\n",
       "    <tr>\n",
       "      <th>4</th>\n",
       "      <td>12820.0</td>\n",
       "      <td>2011-12-06</td>\n",
       "    </tr>\n",
       "    <tr>\n",
       "      <th>...</th>\n",
       "      <td>...</td>\n",
       "      <td>...</td>\n",
       "    </tr>\n",
       "    <tr>\n",
       "      <th>3915</th>\n",
       "      <td>18280.0</td>\n",
       "      <td>2011-03-07</td>\n",
       "    </tr>\n",
       "    <tr>\n",
       "      <th>3916</th>\n",
       "      <td>18281.0</td>\n",
       "      <td>2011-06-12</td>\n",
       "    </tr>\n",
       "    <tr>\n",
       "      <th>3917</th>\n",
       "      <td>18282.0</td>\n",
       "      <td>2011-12-02</td>\n",
       "    </tr>\n",
       "    <tr>\n",
       "      <th>3918</th>\n",
       "      <td>18283.0</td>\n",
       "      <td>2011-12-06</td>\n",
       "    </tr>\n",
       "    <tr>\n",
       "      <th>3919</th>\n",
       "      <td>18287.0</td>\n",
       "      <td>2011-10-28</td>\n",
       "    </tr>\n",
       "  </tbody>\n",
       "</table>\n",
       "<p>3920 rows × 2 columns</p>\n",
       "</div>"
      ],
      "text/plain": [
       "      CustomerID        Date\n",
       "0        12346.0  2011-01-18\n",
       "1        12747.0  2011-12-07\n",
       "2        12748.0  2011-12-09\n",
       "3        12749.0  2011-12-06\n",
       "4        12820.0  2011-12-06\n",
       "...          ...         ...\n",
       "3915     18280.0  2011-03-07\n",
       "3916     18281.0  2011-06-12\n",
       "3917     18282.0  2011-12-02\n",
       "3918     18283.0  2011-12-06\n",
       "3919     18287.0  2011-10-28\n",
       "\n",
       "[3920 rows x 2 columns]"
      ]
     },
     "execution_count": 26,
     "metadata": {},
     "output_type": "execute_result"
    }
   ],
   "source": [
    "recency"
   ]
  },
  {
   "cell_type": "code",
   "execution_count": 27,
   "id": "8bfddbe3",
   "metadata": {},
   "outputs": [],
   "source": [
    "#rename columns name\n",
    "recency.columns = ['CustomerID','Last_Purchase_Date']\n",
    "\n",
    "#calculate for recency\n",
    "recency['Recency'] = recency.Last_Purchase_Date.apply(lambda x:(Now - x).days)\n",
    "\n",
    "#drop last purchase date\n",
    "recency =recency.drop('Last_Purchase_Date', axis=1)"
   ]
  },
  {
   "cell_type": "code",
   "execution_count": 28,
   "id": "b2320697",
   "metadata": {},
   "outputs": [
    {
     "data": {
      "text/html": [
       "<div>\n",
       "<style scoped>\n",
       "    .dataframe tbody tr th:only-of-type {\n",
       "        vertical-align: middle;\n",
       "    }\n",
       "\n",
       "    .dataframe tbody tr th {\n",
       "        vertical-align: top;\n",
       "    }\n",
       "\n",
       "    .dataframe thead th {\n",
       "        text-align: right;\n",
       "    }\n",
       "</style>\n",
       "<table border=\"1\" class=\"dataframe\">\n",
       "  <thead>\n",
       "    <tr style=\"text-align: right;\">\n",
       "      <th></th>\n",
       "      <th>CustomerID</th>\n",
       "      <th>Recency</th>\n",
       "    </tr>\n",
       "  </thead>\n",
       "  <tbody>\n",
       "    <tr>\n",
       "      <th>0</th>\n",
       "      <td>12346.0</td>\n",
       "      <td>325</td>\n",
       "    </tr>\n",
       "    <tr>\n",
       "      <th>1</th>\n",
       "      <td>12747.0</td>\n",
       "      <td>2</td>\n",
       "    </tr>\n",
       "    <tr>\n",
       "      <th>2</th>\n",
       "      <td>12748.0</td>\n",
       "      <td>0</td>\n",
       "    </tr>\n",
       "    <tr>\n",
       "      <th>3</th>\n",
       "      <td>12749.0</td>\n",
       "      <td>3</td>\n",
       "    </tr>\n",
       "    <tr>\n",
       "      <th>4</th>\n",
       "      <td>12820.0</td>\n",
       "      <td>3</td>\n",
       "    </tr>\n",
       "  </tbody>\n",
       "</table>\n",
       "</div>"
      ],
      "text/plain": [
       "   CustomerID  Recency\n",
       "0     12346.0      325\n",
       "1     12747.0        2\n",
       "2     12748.0        0\n",
       "3     12749.0        3\n",
       "4     12820.0        3"
      ]
     },
     "execution_count": 28,
     "metadata": {},
     "output_type": "execute_result"
    }
   ],
   "source": [
    "recency.head()"
   ]
  },
  {
   "cell_type": "markdown",
   "id": "01bd93f4",
   "metadata": {},
   "source": [
    "### Frequency & Monetary"
   ]
  },
  {
   "cell_type": "code",
   "execution_count": 29,
   "id": "ed97cb40",
   "metadata": {},
   "outputs": [],
   "source": [
    "#group customers by frequency & monetray and take aggregation \n",
    "FrequencyMonetary = df.groupby('CustomerID').agg({'InvoiceNo'   : lambda x:len(x),\n",
    "                                         'TotalRevenue'  : lambda x:x.sum()})\n",
    "\n",
    "#rename columns name to relateble name\n",
    "FrequencyMonetary.rename(columns ={'InvoiceNo' :'Frequency','TotalRevenue':'Monetary'},inplace= True)"
   ]
  },
  {
   "cell_type": "code",
   "execution_count": 30,
   "id": "bcd7baf7",
   "metadata": {},
   "outputs": [
    {
     "data": {
      "text/html": [
       "<div>\n",
       "<style scoped>\n",
       "    .dataframe tbody tr th:only-of-type {\n",
       "        vertical-align: middle;\n",
       "    }\n",
       "\n",
       "    .dataframe tbody tr th {\n",
       "        vertical-align: top;\n",
       "    }\n",
       "\n",
       "    .dataframe thead th {\n",
       "        text-align: right;\n",
       "    }\n",
       "</style>\n",
       "<table border=\"1\" class=\"dataframe\">\n",
       "  <thead>\n",
       "    <tr style=\"text-align: right;\">\n",
       "      <th></th>\n",
       "      <th>Frequency</th>\n",
       "      <th>Monetary</th>\n",
       "    </tr>\n",
       "    <tr>\n",
       "      <th>CustomerID</th>\n",
       "      <th></th>\n",
       "      <th></th>\n",
       "    </tr>\n",
       "  </thead>\n",
       "  <tbody>\n",
       "    <tr>\n",
       "      <th>13441.0</th>\n",
       "      <td>13</td>\n",
       "      <td>3856.32</td>\n",
       "    </tr>\n",
       "    <tr>\n",
       "      <th>13904.0</th>\n",
       "      <td>26</td>\n",
       "      <td>8648.64</td>\n",
       "    </tr>\n",
       "  </tbody>\n",
       "</table>\n",
       "</div>"
      ],
      "text/plain": [
       "            Frequency  Monetary\n",
       "CustomerID                     \n",
       "13441.0            13   3856.32\n",
       "13904.0            26   8648.64"
      ]
     },
     "execution_count": 30,
     "metadata": {},
     "output_type": "execute_result"
    }
   ],
   "source": [
    "#check random sample to validate transformation\n",
    "FrequencyMonetary.sample(2, random_state=3)"
   ]
  },
  {
   "cell_type": "code",
   "execution_count": 31,
   "id": "b19b7325",
   "metadata": {},
   "outputs": [],
   "source": [
    "#merge Recenecy, Frequency & Monteray columns to a single table\n",
    "df_RFM = recency.merge(FrequencyMonetary,left_on='CustomerID',right_on='CustomerID')"
   ]
  },
  {
   "cell_type": "code",
   "execution_count": 32,
   "id": "a39a715e",
   "metadata": {},
   "outputs": [
    {
     "data": {
      "text/html": [
       "<div>\n",
       "<style scoped>\n",
       "    .dataframe tbody tr th:only-of-type {\n",
       "        vertical-align: middle;\n",
       "    }\n",
       "\n",
       "    .dataframe tbody tr th {\n",
       "        vertical-align: top;\n",
       "    }\n",
       "\n",
       "    .dataframe thead th {\n",
       "        text-align: right;\n",
       "    }\n",
       "</style>\n",
       "<table border=\"1\" class=\"dataframe\">\n",
       "  <thead>\n",
       "    <tr style=\"text-align: right;\">\n",
       "      <th></th>\n",
       "      <th>CustomerID</th>\n",
       "      <th>Recency</th>\n",
       "      <th>Frequency</th>\n",
       "      <th>Monetary</th>\n",
       "    </tr>\n",
       "  </thead>\n",
       "  <tbody>\n",
       "    <tr>\n",
       "      <th>447</th>\n",
       "      <td>13441.0</td>\n",
       "      <td>91</td>\n",
       "      <td>13</td>\n",
       "      <td>3856.32</td>\n",
       "    </tr>\n",
       "    <tr>\n",
       "      <th>768</th>\n",
       "      <td>13904.0</td>\n",
       "      <td>37</td>\n",
       "      <td>26</td>\n",
       "      <td>8648.64</td>\n",
       "    </tr>\n",
       "  </tbody>\n",
       "</table>\n",
       "</div>"
      ],
      "text/plain": [
       "     CustomerID  Recency  Frequency  Monetary\n",
       "447     13441.0       91         13   3856.32\n",
       "768     13904.0       37         26   8648.64"
      ]
     },
     "execution_count": 32,
     "metadata": {},
     "output_type": "execute_result"
    }
   ],
   "source": [
    "#check random sample to validate transformation\n",
    "df_RFM.sample(2, random_state=3)"
   ]
  },
  {
   "cell_type": "code",
   "execution_count": 33,
   "id": "d60e3659",
   "metadata": {},
   "outputs": [
    {
     "data": {
      "text/html": [
       "<div>\n",
       "<style scoped>\n",
       "    .dataframe tbody tr th:only-of-type {\n",
       "        vertical-align: middle;\n",
       "    }\n",
       "\n",
       "    .dataframe tbody tr th {\n",
       "        vertical-align: top;\n",
       "    }\n",
       "\n",
       "    .dataframe thead th {\n",
       "        text-align: right;\n",
       "    }\n",
       "</style>\n",
       "<table border=\"1\" class=\"dataframe\">\n",
       "  <thead>\n",
       "    <tr style=\"text-align: right;\">\n",
       "      <th></th>\n",
       "      <th>CustomerID</th>\n",
       "      <th>Recency</th>\n",
       "      <th>Frequency</th>\n",
       "      <th>Monetary</th>\n",
       "    </tr>\n",
       "  </thead>\n",
       "  <tbody>\n",
       "    <tr>\n",
       "      <th>count</th>\n",
       "      <td>3920.000000</td>\n",
       "      <td>3920.000000</td>\n",
       "      <td>3920.000000</td>\n",
       "      <td>3.920000e+03</td>\n",
       "    </tr>\n",
       "    <tr>\n",
       "      <th>mean</th>\n",
       "      <td>15562.059694</td>\n",
       "      <td>91.742092</td>\n",
       "      <td>90.388010</td>\n",
       "      <td>7.028140e+05</td>\n",
       "    </tr>\n",
       "    <tr>\n",
       "      <th>std</th>\n",
       "      <td>1576.594671</td>\n",
       "      <td>99.533485</td>\n",
       "      <td>217.808385</td>\n",
       "      <td>8.908820e+06</td>\n",
       "    </tr>\n",
       "    <tr>\n",
       "      <th>min</th>\n",
       "      <td>12346.000000</td>\n",
       "      <td>0.000000</td>\n",
       "      <td>1.000000</td>\n",
       "      <td>3.750000e+00</td>\n",
       "    </tr>\n",
       "    <tr>\n",
       "      <th>25%</th>\n",
       "      <td>14208.750000</td>\n",
       "      <td>17.000000</td>\n",
       "      <td>17.000000</td>\n",
       "      <td>5.188285e+03</td>\n",
       "    </tr>\n",
       "    <tr>\n",
       "      <th>50%</th>\n",
       "      <td>15569.500000</td>\n",
       "      <td>50.000000</td>\n",
       "      <td>41.000000</td>\n",
       "      <td>2.519932e+04</td>\n",
       "    </tr>\n",
       "    <tr>\n",
       "      <th>75%</th>\n",
       "      <td>16913.250000</td>\n",
       "      <td>142.000000</td>\n",
       "      <td>99.250000</td>\n",
       "      <td>1.436019e+05</td>\n",
       "    </tr>\n",
       "    <tr>\n",
       "      <th>max</th>\n",
       "      <td>18287.000000</td>\n",
       "      <td>373.000000</td>\n",
       "      <td>7847.000000</td>\n",
       "      <td>3.330572e+08</td>\n",
       "    </tr>\n",
       "  </tbody>\n",
       "</table>\n",
       "</div>"
      ],
      "text/plain": [
       "         CustomerID      Recency    Frequency      Monetary\n",
       "count   3920.000000  3920.000000  3920.000000  3.920000e+03\n",
       "mean   15562.059694    91.742092    90.388010  7.028140e+05\n",
       "std     1576.594671    99.533485   217.808385  8.908820e+06\n",
       "min    12346.000000     0.000000     1.000000  3.750000e+00\n",
       "25%    14208.750000    17.000000    17.000000  5.188285e+03\n",
       "50%    15569.500000    50.000000    41.000000  2.519932e+04\n",
       "75%    16913.250000   142.000000    99.250000  1.436019e+05\n",
       "max    18287.000000   373.000000  7847.000000  3.330572e+08"
      ]
     },
     "execution_count": 33,
     "metadata": {},
     "output_type": "execute_result"
    }
   ],
   "source": [
    "#statistical summary \n",
    "df_RFM.describe()"
   ]
  },
  {
   "cell_type": "markdown",
   "id": "3df6940e",
   "metadata": {},
   "source": [
    "   - 25percentile of Monetary tells us that 75% of the Monetary value from the customers are more than 5188 dollars\n",
    "   - 50percentile(median) of Monetary tells us that 50% of the Monetary value from the customers are more than 25,199 dollars\n",
    "   - 75percentile of Monetary tells us that 25% of the Monetary value from the customers are more than 143,601 dollars"
   ]
  },
  {
   "cell_type": "code",
   "execution_count": 34,
   "id": "7424c983",
   "metadata": {},
   "outputs": [],
   "source": [
    "#create quantile range \n",
    "quantiles = df_RFM.quantile(q=[0.25,0.50,0.75])\n",
    "quantiles = quantiles.to_dict()"
   ]
  },
  {
   "cell_type": "code",
   "execution_count": 35,
   "id": "b0b1dec1",
   "metadata": {},
   "outputs": [],
   "source": [
    "#a fxn to bin quantile into recency values\n",
    "def r_score(x):\n",
    "    if x <= quantiles['Recency'][0.25]:\n",
    "        return 1\n",
    "    elif x <= quantiles['Recency'][0.50]:\n",
    "        return 2\n",
    "    elif x <= quantiles['Recency'][0.75]:\n",
    "        return 3\n",
    "    else:\n",
    "        return 4"
   ]
  },
  {
   "cell_type": "code",
   "execution_count": 36,
   "id": "9921ab21",
   "metadata": {},
   "outputs": [],
   "source": [
    "#a fxn to bin quantile into monetary values\n",
    "def fm_score(x, c):\n",
    "    if x <= quantiles[c][0.25]:\n",
    "        return 4\n",
    "    elif x <= quantiles[c][0.50]:\n",
    "        return 3\n",
    "    elif x <= quantiles[c][0.75]:\n",
    "        return 2\n",
    "    else:\n",
    "        return 1   "
   ]
  },
  {
   "cell_type": "code",
   "execution_count": 37,
   "id": "d247f870",
   "metadata": {},
   "outputs": [],
   "source": [
    "#apply the defined fxn to new columns\n",
    "df_RFM['R'] = df_RFM['Recency'].apply(lambda x: r_score(x))\n",
    "df_RFM['F'] = df_RFM['Frequency'].apply(lambda x: fm_score(x, 'Frequency'))\n",
    "df_RFM['M'] = df_RFM['Monetary'].apply(lambda x: fm_score(x, 'Monetary'))"
   ]
  },
  {
   "cell_type": "code",
   "execution_count": 38,
   "id": "dedb11e6",
   "metadata": {},
   "outputs": [
    {
     "data": {
      "text/html": [
       "<div>\n",
       "<style scoped>\n",
       "    .dataframe tbody tr th:only-of-type {\n",
       "        vertical-align: middle;\n",
       "    }\n",
       "\n",
       "    .dataframe tbody tr th {\n",
       "        vertical-align: top;\n",
       "    }\n",
       "\n",
       "    .dataframe thead th {\n",
       "        text-align: right;\n",
       "    }\n",
       "</style>\n",
       "<table border=\"1\" class=\"dataframe\">\n",
       "  <thead>\n",
       "    <tr style=\"text-align: right;\">\n",
       "      <th></th>\n",
       "      <th>CustomerID</th>\n",
       "      <th>Recency</th>\n",
       "      <th>Frequency</th>\n",
       "      <th>Monetary</th>\n",
       "      <th>R</th>\n",
       "      <th>F</th>\n",
       "      <th>M</th>\n",
       "    </tr>\n",
       "  </thead>\n",
       "  <tbody>\n",
       "    <tr>\n",
       "      <th>0</th>\n",
       "      <td>12346.0</td>\n",
       "      <td>325</td>\n",
       "      <td>1</td>\n",
       "      <td>7.718360e+04</td>\n",
       "      <td>4</td>\n",
       "      <td>4</td>\n",
       "      <td>2</td>\n",
       "    </tr>\n",
       "    <tr>\n",
       "      <th>1</th>\n",
       "      <td>12747.0</td>\n",
       "      <td>2</td>\n",
       "      <td>103</td>\n",
       "      <td>4.321890e+05</td>\n",
       "      <td>1</td>\n",
       "      <td>1</td>\n",
       "      <td>1</td>\n",
       "    </tr>\n",
       "    <tr>\n",
       "      <th>2</th>\n",
       "      <td>12748.0</td>\n",
       "      <td>0</td>\n",
       "      <td>4595</td>\n",
       "      <td>1.549422e+08</td>\n",
       "      <td>1</td>\n",
       "      <td>1</td>\n",
       "      <td>1</td>\n",
       "    </tr>\n",
       "  </tbody>\n",
       "</table>\n",
       "</div>"
      ],
      "text/plain": [
       "   CustomerID  Recency  Frequency      Monetary  R  F  M\n",
       "0     12346.0      325          1  7.718360e+04  4  4  2\n",
       "1     12747.0        2        103  4.321890e+05  1  1  1\n",
       "2     12748.0        0       4595  1.549422e+08  1  1  1"
      ]
     },
     "execution_count": 38,
     "metadata": {},
     "output_type": "execute_result"
    }
   ],
   "source": [
    "#check top 3 to validate transformation\n",
    "df_RFM.head(3)"
   ]
  },
  {
   "cell_type": "code",
   "execution_count": 39,
   "id": "b05f801e",
   "metadata": {},
   "outputs": [],
   "source": [
    "#concatenate RFM to get segment score\n",
    "df_RFM['RFM_Segment'] = df_RFM.R.map(str) + df_RFM.F.map(str) + df_RFM.M.map(str)\n",
    "df_RFM['RFM_Score'] = df_RFM[['R','F','M']].sum(axis=1)"
   ]
  },
  {
   "cell_type": "code",
   "execution_count": 40,
   "id": "5c3ba916",
   "metadata": {},
   "outputs": [
    {
     "data": {
      "text/html": [
       "<div>\n",
       "<style scoped>\n",
       "    .dataframe tbody tr th:only-of-type {\n",
       "        vertical-align: middle;\n",
       "    }\n",
       "\n",
       "    .dataframe tbody tr th {\n",
       "        vertical-align: top;\n",
       "    }\n",
       "\n",
       "    .dataframe thead th {\n",
       "        text-align: right;\n",
       "    }\n",
       "</style>\n",
       "<table border=\"1\" class=\"dataframe\">\n",
       "  <thead>\n",
       "    <tr style=\"text-align: right;\">\n",
       "      <th></th>\n",
       "      <th>CustomerID</th>\n",
       "      <th>Recency</th>\n",
       "      <th>Frequency</th>\n",
       "      <th>Monetary</th>\n",
       "      <th>R</th>\n",
       "      <th>F</th>\n",
       "      <th>M</th>\n",
       "      <th>RFM_Segment</th>\n",
       "      <th>RFM_Score</th>\n",
       "    </tr>\n",
       "  </thead>\n",
       "  <tbody>\n",
       "    <tr>\n",
       "      <th>0</th>\n",
       "      <td>12346.0</td>\n",
       "      <td>325</td>\n",
       "      <td>1</td>\n",
       "      <td>7.718360e+04</td>\n",
       "      <td>4</td>\n",
       "      <td>4</td>\n",
       "      <td>2</td>\n",
       "      <td>442</td>\n",
       "      <td>10</td>\n",
       "    </tr>\n",
       "    <tr>\n",
       "      <th>1</th>\n",
       "      <td>12747.0</td>\n",
       "      <td>2</td>\n",
       "      <td>103</td>\n",
       "      <td>4.321890e+05</td>\n",
       "      <td>1</td>\n",
       "      <td>1</td>\n",
       "      <td>1</td>\n",
       "      <td>111</td>\n",
       "      <td>3</td>\n",
       "    </tr>\n",
       "    <tr>\n",
       "      <th>2</th>\n",
       "      <td>12748.0</td>\n",
       "      <td>0</td>\n",
       "      <td>4595</td>\n",
       "      <td>1.549422e+08</td>\n",
       "      <td>1</td>\n",
       "      <td>1</td>\n",
       "      <td>1</td>\n",
       "      <td>111</td>\n",
       "      <td>3</td>\n",
       "    </tr>\n",
       "  </tbody>\n",
       "</table>\n",
       "</div>"
      ],
      "text/plain": [
       "   CustomerID  Recency  Frequency      Monetary  R  F  M RFM_Segment  \\\n",
       "0     12346.0      325          1  7.718360e+04  4  4  2         442   \n",
       "1     12747.0        2        103  4.321890e+05  1  1  1         111   \n",
       "2     12748.0        0       4595  1.549422e+08  1  1  1         111   \n",
       "\n",
       "   RFM_Score  \n",
       "0         10  \n",
       "1          3  \n",
       "2          3  "
      ]
     },
     "execution_count": 40,
     "metadata": {},
     "output_type": "execute_result"
    }
   ],
   "source": [
    "#check top 3 to validate transformation\n",
    "df_RFM.head(3)"
   ]
  },
  {
   "cell_type": "code",
   "execution_count": 41,
   "id": "98067c56",
   "metadata": {},
   "outputs": [
    {
     "data": {
      "text/plain": [
       "array(['442', '111', '122', '444', '322', '343', '333', '133', '231',\n",
       "       '233', '433', '311', '212', '411', '332', '223', '222', '323',\n",
       "       '443', '321', '422', '344', '211', '243', '143', '121', '221',\n",
       "       '132', '134', '334', '244', '421', '434', '144', '312', '432',\n",
       "       '112', '431', '331', '232', '423', '234', '123', '131', '342',\n",
       "       '412', '242', '441', '142', '141'], dtype=object)"
      ]
     },
     "execution_count": 41,
     "metadata": {},
     "output_type": "execute_result"
    }
   ],
   "source": [
    "#check unique segment\n",
    "df_RFM.RFM_Segment.unique()"
   ]
  },
  {
   "cell_type": "code",
   "execution_count": 42,
   "id": "c8739e07",
   "metadata": {},
   "outputs": [],
   "source": [
    "#bin segments into 4 groups\n",
    "Loyalty_level =['Cant loose', 'Champions', 'About to sleep', 'Hibernating']\n",
    "df_RFM['Customer Segment'] =pd.qcut(df_RFM['RFM_Score'], q=4, labels=Loyalty_level)"
   ]
  },
  {
   "cell_type": "code",
   "execution_count": 43,
   "id": "1f1d726e",
   "metadata": {},
   "outputs": [
    {
     "data": {
      "text/html": [
       "<div>\n",
       "<style scoped>\n",
       "    .dataframe tbody tr th:only-of-type {\n",
       "        vertical-align: middle;\n",
       "    }\n",
       "\n",
       "    .dataframe tbody tr th {\n",
       "        vertical-align: top;\n",
       "    }\n",
       "\n",
       "    .dataframe thead th {\n",
       "        text-align: right;\n",
       "    }\n",
       "</style>\n",
       "<table border=\"1\" class=\"dataframe\">\n",
       "  <thead>\n",
       "    <tr style=\"text-align: right;\">\n",
       "      <th></th>\n",
       "      <th>CustomerID</th>\n",
       "      <th>Recency</th>\n",
       "      <th>Frequency</th>\n",
       "      <th>Monetary</th>\n",
       "      <th>R</th>\n",
       "      <th>F</th>\n",
       "      <th>M</th>\n",
       "      <th>RFM_Segment</th>\n",
       "      <th>RFM_Score</th>\n",
       "      <th>Customer Segment</th>\n",
       "    </tr>\n",
       "  </thead>\n",
       "  <tbody>\n",
       "    <tr>\n",
       "      <th>1</th>\n",
       "      <td>12747.0</td>\n",
       "      <td>2</td>\n",
       "      <td>103</td>\n",
       "      <td>4.321890e+05</td>\n",
       "      <td>1</td>\n",
       "      <td>1</td>\n",
       "      <td>1</td>\n",
       "      <td>111</td>\n",
       "      <td>3</td>\n",
       "      <td>Cant loose</td>\n",
       "    </tr>\n",
       "    <tr>\n",
       "      <th>2</th>\n",
       "      <td>12748.0</td>\n",
       "      <td>0</td>\n",
       "      <td>4595</td>\n",
       "      <td>1.549422e+08</td>\n",
       "      <td>1</td>\n",
       "      <td>1</td>\n",
       "      <td>1</td>\n",
       "      <td>111</td>\n",
       "      <td>3</td>\n",
       "      <td>Cant loose</td>\n",
       "    </tr>\n",
       "    <tr>\n",
       "      <th>3</th>\n",
       "      <td>12749.0</td>\n",
       "      <td>3</td>\n",
       "      <td>199</td>\n",
       "      <td>8.140851e+05</td>\n",
       "      <td>1</td>\n",
       "      <td>1</td>\n",
       "      <td>1</td>\n",
       "      <td>111</td>\n",
       "      <td>3</td>\n",
       "      <td>Cant loose</td>\n",
       "    </tr>\n",
       "    <tr>\n",
       "      <th>4</th>\n",
       "      <td>12820.0</td>\n",
       "      <td>3</td>\n",
       "      <td>59</td>\n",
       "      <td>5.559806e+04</td>\n",
       "      <td>1</td>\n",
       "      <td>2</td>\n",
       "      <td>2</td>\n",
       "      <td>122</td>\n",
       "      <td>5</td>\n",
       "      <td>Cant loose</td>\n",
       "    </tr>\n",
       "    <tr>\n",
       "      <th>9</th>\n",
       "      <td>12826.0</td>\n",
       "      <td>2</td>\n",
       "      <td>91</td>\n",
       "      <td>1.341995e+05</td>\n",
       "      <td>1</td>\n",
       "      <td>2</td>\n",
       "      <td>2</td>\n",
       "      <td>122</td>\n",
       "      <td>5</td>\n",
       "      <td>Cant loose</td>\n",
       "    </tr>\n",
       "    <tr>\n",
       "      <th>...</th>\n",
       "      <td>...</td>\n",
       "      <td>...</td>\n",
       "      <td>...</td>\n",
       "      <td>...</td>\n",
       "      <td>...</td>\n",
       "      <td>...</td>\n",
       "      <td>...</td>\n",
       "      <td>...</td>\n",
       "      <td>...</td>\n",
       "      <td>...</td>\n",
       "    </tr>\n",
       "    <tr>\n",
       "      <th>3889</th>\n",
       "      <td>18241.0</td>\n",
       "      <td>9</td>\n",
       "      <td>104</td>\n",
       "      <td>2.156014e+05</td>\n",
       "      <td>1</td>\n",
       "      <td>1</td>\n",
       "      <td>1</td>\n",
       "      <td>111</td>\n",
       "      <td>3</td>\n",
       "      <td>Cant loose</td>\n",
       "    </tr>\n",
       "    <tr>\n",
       "      <th>3891</th>\n",
       "      <td>18245.0</td>\n",
       "      <td>7</td>\n",
       "      <td>175</td>\n",
       "      <td>4.492355e+05</td>\n",
       "      <td>1</td>\n",
       "      <td>1</td>\n",
       "      <td>1</td>\n",
       "      <td>111</td>\n",
       "      <td>3</td>\n",
       "      <td>Cant loose</td>\n",
       "    </tr>\n",
       "    <tr>\n",
       "      <th>3899</th>\n",
       "      <td>18257.0</td>\n",
       "      <td>39</td>\n",
       "      <td>118</td>\n",
       "      <td>2.758403e+05</td>\n",
       "      <td>2</td>\n",
       "      <td>1</td>\n",
       "      <td>1</td>\n",
       "      <td>211</td>\n",
       "      <td>4</td>\n",
       "      <td>Cant loose</td>\n",
       "    </tr>\n",
       "    <tr>\n",
       "      <th>3909</th>\n",
       "      <td>18272.0</td>\n",
       "      <td>2</td>\n",
       "      <td>166</td>\n",
       "      <td>5.110443e+05</td>\n",
       "      <td>1</td>\n",
       "      <td>1</td>\n",
       "      <td>1</td>\n",
       "      <td>111</td>\n",
       "      <td>3</td>\n",
       "      <td>Cant loose</td>\n",
       "    </tr>\n",
       "    <tr>\n",
       "      <th>3918</th>\n",
       "      <td>18283.0</td>\n",
       "      <td>3</td>\n",
       "      <td>756</td>\n",
       "      <td>1.583729e+06</td>\n",
       "      <td>1</td>\n",
       "      <td>1</td>\n",
       "      <td>1</td>\n",
       "      <td>111</td>\n",
       "      <td>3</td>\n",
       "      <td>Cant loose</td>\n",
       "    </tr>\n",
       "  </tbody>\n",
       "</table>\n",
       "<p>1170 rows × 10 columns</p>\n",
       "</div>"
      ],
      "text/plain": [
       "      CustomerID  Recency  Frequency      Monetary  R  F  M RFM_Segment  \\\n",
       "1        12747.0        2        103  4.321890e+05  1  1  1         111   \n",
       "2        12748.0        0       4595  1.549422e+08  1  1  1         111   \n",
       "3        12749.0        3        199  8.140851e+05  1  1  1         111   \n",
       "4        12820.0        3         59  5.559806e+04  1  2  2         122   \n",
       "9        12826.0        2         91  1.341995e+05  1  2  2         122   \n",
       "...          ...      ...        ...           ... .. .. ..         ...   \n",
       "3889     18241.0        9        104  2.156014e+05  1  1  1         111   \n",
       "3891     18245.0        7        175  4.492355e+05  1  1  1         111   \n",
       "3899     18257.0       39        118  2.758403e+05  2  1  1         211   \n",
       "3909     18272.0        2        166  5.110443e+05  1  1  1         111   \n",
       "3918     18283.0        3        756  1.583729e+06  1  1  1         111   \n",
       "\n",
       "      RFM_Score Customer Segment  \n",
       "1             3       Cant loose  \n",
       "2             3       Cant loose  \n",
       "3             3       Cant loose  \n",
       "4             5       Cant loose  \n",
       "9             5       Cant loose  \n",
       "...         ...              ...  \n",
       "3889          3       Cant loose  \n",
       "3891          3       Cant loose  \n",
       "3899          4       Cant loose  \n",
       "3909          3       Cant loose  \n",
       "3918          3       Cant loose  \n",
       "\n",
       "[1170 rows x 10 columns]"
      ]
     },
     "execution_count": 43,
     "metadata": {},
     "output_type": "execute_result"
    }
   ],
   "source": [
    "#check cant loose customer to have a quick look of their RFM score\n",
    "df_RFM[df_RFM['Customer Segment'] == 'Cant loose']"
   ]
  },
  {
   "cell_type": "code",
   "execution_count": 44,
   "id": "7fb99c02",
   "metadata": {},
   "outputs": [
    {
     "data": {
      "text/plain": [
       "<AxesSubplot:xlabel='Customer Segment', ylabel='count'>"
      ]
     },
     "execution_count": 44,
     "metadata": {},
     "output_type": "execute_result"
    },
    {
     "data": {
      "image/png": "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\n",
      "text/plain": [
       "<Figure size 432x288 with 1 Axes>"
      ]
     },
     "metadata": {
      "needs_background": "light"
     },
     "output_type": "display_data"
    }
   ],
   "source": [
    "#Frequency of customer segment - graphical analysis (univariate analysis)\n",
    "sns.countplot(data=df_RFM, x=\"Customer Segment\", palette = \"coolwarm\")"
   ]
  },
  {
   "cell_type": "code",
   "execution_count": 45,
   "id": "843fc609",
   "metadata": {},
   "outputs": [
    {
     "data": {
      "text/plain": [
       "Cant loose        1170\n",
       "Champions         1150\n",
       "About to sleep     849\n",
       "Hibernating        751\n",
       "Name: Customer Segment, dtype: int64"
      ]
     },
     "execution_count": 45,
     "metadata": {},
     "output_type": "execute_result"
    }
   ],
   "source": [
    "#Frequency of customer segment - non-graphical analysis\n",
    "df_RFM['Customer Segment'].value_counts()"
   ]
  },
  {
   "cell_type": "markdown",
   "id": "59cf4690",
   "metadata": {},
   "source": [
    "    Observations:\n",
    "        Cant loose & champions dominate the frequency of segment; (Recall, the customer team observation was true)"
   ]
  },
  {
   "cell_type": "code",
   "execution_count": 46,
   "id": "c24313da",
   "metadata": {},
   "outputs": [],
   "source": [
    "#group customer segment by their avergae recency, frequency & Monetary\n",
    "def rfm_values(df):\n",
    "\n",
    "    df_new = df_RFM.groupby(['Customer Segment']).agg({\n",
    "        'Recency': 'mean',\n",
    "        'Frequency': 'mean',\n",
    "        'Monetary': ['mean', 'count']\n",
    "    }).round(0)\n",
    "    \n",
    "    return df_new"
   ]
  },
  {
   "cell_type": "code",
   "execution_count": 47,
   "id": "f90d5e07",
   "metadata": {},
   "outputs": [
    {
     "data": {
      "text/html": [
       "<div>\n",
       "<style scoped>\n",
       "    .dataframe tbody tr th:only-of-type {\n",
       "        vertical-align: middle;\n",
       "    }\n",
       "\n",
       "    .dataframe tbody tr th {\n",
       "        vertical-align: top;\n",
       "    }\n",
       "\n",
       "    .dataframe thead tr th {\n",
       "        text-align: left;\n",
       "    }\n",
       "\n",
       "    .dataframe thead tr:last-of-type th {\n",
       "        text-align: right;\n",
       "    }\n",
       "</style>\n",
       "<table border=\"1\" class=\"dataframe\">\n",
       "  <thead>\n",
       "    <tr>\n",
       "      <th></th>\n",
       "      <th>Recency</th>\n",
       "      <th>Frequency</th>\n",
       "      <th colspan=\"2\" halign=\"left\">Monetary</th>\n",
       "    </tr>\n",
       "    <tr>\n",
       "      <th></th>\n",
       "      <th>mean</th>\n",
       "      <th>mean</th>\n",
       "      <th>mean</th>\n",
       "      <th>count</th>\n",
       "    </tr>\n",
       "    <tr>\n",
       "      <th>Customer Segment</th>\n",
       "      <th></th>\n",
       "      <th></th>\n",
       "      <th></th>\n",
       "      <th></th>\n",
       "    </tr>\n",
       "  </thead>\n",
       "  <tbody>\n",
       "    <tr>\n",
       "      <th>Cant loose</th>\n",
       "      <td>20.0</td>\n",
       "      <td>225.0</td>\n",
       "      <td>2285651.0</td>\n",
       "      <td>1170</td>\n",
       "    </tr>\n",
       "    <tr>\n",
       "      <th>Champions</th>\n",
       "      <td>67.0</td>\n",
       "      <td>56.0</td>\n",
       "      <td>60875.0</td>\n",
       "      <td>1150</td>\n",
       "    </tr>\n",
       "    <tr>\n",
       "      <th>About to sleep</th>\n",
       "      <td>126.0</td>\n",
       "      <td>23.0</td>\n",
       "      <td>10702.0</td>\n",
       "      <td>849</td>\n",
       "    </tr>\n",
       "    <tr>\n",
       "      <th>Hibernating</th>\n",
       "      <td>203.0</td>\n",
       "      <td>9.0</td>\n",
       "      <td>2300.0</td>\n",
       "      <td>751</td>\n",
       "    </tr>\n",
       "  </tbody>\n",
       "</table>\n",
       "</div>"
      ],
      "text/plain": [
       "                 Recency Frequency   Monetary      \n",
       "                    mean      mean       mean count\n",
       "Customer Segment                                   \n",
       "Cant loose          20.0     225.0  2285651.0  1170\n",
       "Champions           67.0      56.0    60875.0  1150\n",
       "About to sleep     126.0      23.0    10702.0   849\n",
       "Hibernating        203.0       9.0     2300.0   751"
      ]
     },
     "execution_count": 47,
     "metadata": {},
     "output_type": "execute_result"
    }
   ],
   "source": [
    "rfm_values(df_RFM)"
   ]
  },
  {
   "cell_type": "markdown",
   "id": "190b2e67",
   "metadata": {},
   "source": [
    "    -The higher the freq the better it is\n",
    "    -The lower the recency the better it is\n",
    "    -The lower the RFM score the better it is"
   ]
  },
  {
   "cell_type": "markdown",
   "id": "06ef7450",
   "metadata": {},
   "source": [
    "    Observations:\n",
    "        - Cant loose customers are big spenders, most recent & so frequent with the business\n",
    "        - Champion customers are good spenders; recent as well & less frequent with the business\n",
    "        - About to sleep customers spend less with the business, no so recent, & had a poor frequency rate\n",
    "        - Hibernating customers spend so less with the busines, so poor in frequency & how recent they are to the business\n",
    "        \n",
    "        NB: Kindly make this observation so simple to the customer & digital marketers team"
   ]
  },
  {
   "cell_type": "markdown",
   "id": "1d9c83e4",
   "metadata": {},
   "source": [
    "    Recommendations:\n",
    "    - Cant loose customers: The business should focus on increasing customer purchases(by upselling/cross selling unconsumed products) & quality treatment/attention to increase their satisfaction with the business.\n",
    "    \n",
    "    - Champion customers: The business should optimize both budget & time campaign for champions customers in order to maintain their state, and also increase their value.\n",
    "    \n",
    "    - About to sleep customers: The business should so focus on activating customers and making repurchases by forming a Reactivation & Retention Strategy because they are at high risk for churn.\n",
    "    \n",
    "    - Hibernating customers: These customers has churned, so the focus of the campaign is to reactivate the customer by forming a Reactivation strategy"
   ]
  }
 ],
 "metadata": {
  "kernelspec": {
   "display_name": "Python 3 (ipykernel)",
   "language": "python",
   "name": "python3"
  },
  "language_info": {
   "codemirror_mode": {
    "name": "ipython",
    "version": 3
   },
   "file_extension": ".py",
   "mimetype": "text/x-python",
   "name": "python",
   "nbconvert_exporter": "python",
   "pygments_lexer": "ipython3",
   "version": "3.9.7"
  }
 },
 "nbformat": 4,
 "nbformat_minor": 5
}
